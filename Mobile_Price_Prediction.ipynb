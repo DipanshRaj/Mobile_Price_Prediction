{
  "nbformat": 4,
  "nbformat_minor": 0,
  "metadata": {
    "colab": {
      "provenance": []
    },
    "kernelspec": {
      "name": "python3",
      "display_name": "Python 3"
    },
    "language_info": {
      "name": "python"
    },
    "accelerator": "GPU"
  },
  "cells": [
    {
      "cell_type": "code",
      "execution_count": 2,
      "metadata": {
        "id": "-5MUnpb3SRbc"
      },
      "outputs": [],
      "source": [
        "## Importing necessary library\n",
        "import pandas as pd\n",
        "import numpy as np\n",
        "import matplotlib.pyplot as plt\n",
        "import seaborn as sns\n",
        "%matplotlib inline"
      ]
    },
    {
      "cell_type": "code",
      "source": [
        "## To upload file in colab\n",
        "from google.colab import files\n",
        "uploaded=files.upload()"
      ],
      "metadata": {
        "colab": {
          "base_uri": "https://localhost:8080/",
          "height": 74
        },
        "id": "5QbJFLssSdZN",
        "outputId": "51d69d9b-bab0-4fe4-a397-05c576a44293"
      },
      "execution_count": 3,
      "outputs": [
        {
          "output_type": "display_data",
          "data": {
            "text/plain": [
              "<IPython.core.display.HTML object>"
            ],
            "text/html": [
              "\n",
              "     <input type=\"file\" id=\"files-686b26b8-c0de-47e8-aca1-3c283a26ffc3\" name=\"files[]\" multiple disabled\n",
              "        style=\"border:none\" />\n",
              "     <output id=\"result-686b26b8-c0de-47e8-aca1-3c283a26ffc3\">\n",
              "      Upload widget is only available when the cell has been executed in the\n",
              "      current browser session. Please rerun this cell to enable.\n",
              "      </output>\n",
              "      <script>// Copyright 2017 Google LLC\n",
              "//\n",
              "// Licensed under the Apache License, Version 2.0 (the \"License\");\n",
              "// you may not use this file except in compliance with the License.\n",
              "// You may obtain a copy of the License at\n",
              "//\n",
              "//      http://www.apache.org/licenses/LICENSE-2.0\n",
              "//\n",
              "// Unless required by applicable law or agreed to in writing, software\n",
              "// distributed under the License is distributed on an \"AS IS\" BASIS,\n",
              "// WITHOUT WARRANTIES OR CONDITIONS OF ANY KIND, either express or implied.\n",
              "// See the License for the specific language governing permissions and\n",
              "// limitations under the License.\n",
              "\n",
              "/**\n",
              " * @fileoverview Helpers for google.colab Python module.\n",
              " */\n",
              "(function(scope) {\n",
              "function span(text, styleAttributes = {}) {\n",
              "  const element = document.createElement('span');\n",
              "  element.textContent = text;\n",
              "  for (const key of Object.keys(styleAttributes)) {\n",
              "    element.style[key] = styleAttributes[key];\n",
              "  }\n",
              "  return element;\n",
              "}\n",
              "\n",
              "// Max number of bytes which will be uploaded at a time.\n",
              "const MAX_PAYLOAD_SIZE = 100 * 1024;\n",
              "\n",
              "function _uploadFiles(inputId, outputId) {\n",
              "  const steps = uploadFilesStep(inputId, outputId);\n",
              "  const outputElement = document.getElementById(outputId);\n",
              "  // Cache steps on the outputElement to make it available for the next call\n",
              "  // to uploadFilesContinue from Python.\n",
              "  outputElement.steps = steps;\n",
              "\n",
              "  return _uploadFilesContinue(outputId);\n",
              "}\n",
              "\n",
              "// This is roughly an async generator (not supported in the browser yet),\n",
              "// where there are multiple asynchronous steps and the Python side is going\n",
              "// to poll for completion of each step.\n",
              "// This uses a Promise to block the python side on completion of each step,\n",
              "// then passes the result of the previous step as the input to the next step.\n",
              "function _uploadFilesContinue(outputId) {\n",
              "  const outputElement = document.getElementById(outputId);\n",
              "  const steps = outputElement.steps;\n",
              "\n",
              "  const next = steps.next(outputElement.lastPromiseValue);\n",
              "  return Promise.resolve(next.value.promise).then((value) => {\n",
              "    // Cache the last promise value to make it available to the next\n",
              "    // step of the generator.\n",
              "    outputElement.lastPromiseValue = value;\n",
              "    return next.value.response;\n",
              "  });\n",
              "}\n",
              "\n",
              "/**\n",
              " * Generator function which is called between each async step of the upload\n",
              " * process.\n",
              " * @param {string} inputId Element ID of the input file picker element.\n",
              " * @param {string} outputId Element ID of the output display.\n",
              " * @return {!Iterable<!Object>} Iterable of next steps.\n",
              " */\n",
              "function* uploadFilesStep(inputId, outputId) {\n",
              "  const inputElement = document.getElementById(inputId);\n",
              "  inputElement.disabled = false;\n",
              "\n",
              "  const outputElement = document.getElementById(outputId);\n",
              "  outputElement.innerHTML = '';\n",
              "\n",
              "  const pickedPromise = new Promise((resolve) => {\n",
              "    inputElement.addEventListener('change', (e) => {\n",
              "      resolve(e.target.files);\n",
              "    });\n",
              "  });\n",
              "\n",
              "  const cancel = document.createElement('button');\n",
              "  inputElement.parentElement.appendChild(cancel);\n",
              "  cancel.textContent = 'Cancel upload';\n",
              "  const cancelPromise = new Promise((resolve) => {\n",
              "    cancel.onclick = () => {\n",
              "      resolve(null);\n",
              "    };\n",
              "  });\n",
              "\n",
              "  // Wait for the user to pick the files.\n",
              "  const files = yield {\n",
              "    promise: Promise.race([pickedPromise, cancelPromise]),\n",
              "    response: {\n",
              "      action: 'starting',\n",
              "    }\n",
              "  };\n",
              "\n",
              "  cancel.remove();\n",
              "\n",
              "  // Disable the input element since further picks are not allowed.\n",
              "  inputElement.disabled = true;\n",
              "\n",
              "  if (!files) {\n",
              "    return {\n",
              "      response: {\n",
              "        action: 'complete',\n",
              "      }\n",
              "    };\n",
              "  }\n",
              "\n",
              "  for (const file of files) {\n",
              "    const li = document.createElement('li');\n",
              "    li.append(span(file.name, {fontWeight: 'bold'}));\n",
              "    li.append(span(\n",
              "        `(${file.type || 'n/a'}) - ${file.size} bytes, ` +\n",
              "        `last modified: ${\n",
              "            file.lastModifiedDate ? file.lastModifiedDate.toLocaleDateString() :\n",
              "                                    'n/a'} - `));\n",
              "    const percent = span('0% done');\n",
              "    li.appendChild(percent);\n",
              "\n",
              "    outputElement.appendChild(li);\n",
              "\n",
              "    const fileDataPromise = new Promise((resolve) => {\n",
              "      const reader = new FileReader();\n",
              "      reader.onload = (e) => {\n",
              "        resolve(e.target.result);\n",
              "      };\n",
              "      reader.readAsArrayBuffer(file);\n",
              "    });\n",
              "    // Wait for the data to be ready.\n",
              "    let fileData = yield {\n",
              "      promise: fileDataPromise,\n",
              "      response: {\n",
              "        action: 'continue',\n",
              "      }\n",
              "    };\n",
              "\n",
              "    // Use a chunked sending to avoid message size limits. See b/62115660.\n",
              "    let position = 0;\n",
              "    do {\n",
              "      const length = Math.min(fileData.byteLength - position, MAX_PAYLOAD_SIZE);\n",
              "      const chunk = new Uint8Array(fileData, position, length);\n",
              "      position += length;\n",
              "\n",
              "      const base64 = btoa(String.fromCharCode.apply(null, chunk));\n",
              "      yield {\n",
              "        response: {\n",
              "          action: 'append',\n",
              "          file: file.name,\n",
              "          data: base64,\n",
              "        },\n",
              "      };\n",
              "\n",
              "      let percentDone = fileData.byteLength === 0 ?\n",
              "          100 :\n",
              "          Math.round((position / fileData.byteLength) * 100);\n",
              "      percent.textContent = `${percentDone}% done`;\n",
              "\n",
              "    } while (position < fileData.byteLength);\n",
              "  }\n",
              "\n",
              "  // All done.\n",
              "  yield {\n",
              "    response: {\n",
              "      action: 'complete',\n",
              "    }\n",
              "  };\n",
              "}\n",
              "\n",
              "scope.google = scope.google || {};\n",
              "scope.google.colab = scope.google.colab || {};\n",
              "scope.google.colab._files = {\n",
              "  _uploadFiles,\n",
              "  _uploadFilesContinue,\n",
              "};\n",
              "})(self);\n",
              "</script> "
            ]
          },
          "metadata": {}
        },
        {
          "output_type": "stream",
          "name": "stdout",
          "text": [
            "Saving Mobile_Price_Prediction.csv to Mobile_Price_Prediction.csv\n"
          ]
        }
      ]
    },
    {
      "cell_type": "code",
      "source": [
        "df= pd.read_csv('Mobile_Price_Prediction.csv')\n",
        "df.head(4)"
      ],
      "metadata": {
        "colab": {
          "base_uri": "https://localhost:8080/",
          "height": 425
        },
        "id": "ORK-AmYMSg1Y",
        "outputId": "b0950f03-0646-41a2-92b7-e69cd928b281"
      },
      "execution_count": 4,
      "outputs": [
        {
          "output_type": "execute_result",
          "data": {
            "text/plain": [
              "   Unnamed: 0                            Name    Brand  \\\n",
              "0           0  OnePlus 7T Pro McLaren Edition  OnePlus   \n",
              "1           1                   Realme X2 Pro   Realme   \n",
              "2           2               iPhone 11 Pro Max    Apple   \n",
              "3           3                       iPhone 11    Apple   \n",
              "\n",
              "                    Model  Battery capacity (mAh)  Screen size (inches)  \\\n",
              "0  7T Pro McLaren Edition                    4085                  6.67   \n",
              "1                  X2 Pro                    4000                  6.50   \n",
              "2       iPhone 11 Pro Max                    3969                  6.50   \n",
              "3               iPhone 11                    3110                  6.10   \n",
              "\n",
              "  Touchscreen  Resolution x  Resolution y  Processor  ...  Rear camera  \\\n",
              "0         Yes          1440          3120          8  ...         48.0   \n",
              "1         Yes          1080          2400          8  ...         64.0   \n",
              "2         Yes          1242          2688          6  ...         12.0   \n",
              "3         Yes           828          1792          6  ...         12.0   \n",
              "\n",
              "   Front camera  Operating system  Wi-Fi Bluetooth  GPS Number of SIMs   3G  \\\n",
              "0          16.0           Android    Yes       Yes  Yes              2  Yes   \n",
              "1          16.0           Android    Yes       Yes  Yes              2  Yes   \n",
              "2          12.0               iOS    Yes       Yes  Yes              2  Yes   \n",
              "3          12.0               iOS    Yes       Yes  Yes              2  Yes   \n",
              "\n",
              "   4G/ LTE   Price  \n",
              "0      Yes   58998  \n",
              "1      Yes   27999  \n",
              "2      Yes  106900  \n",
              "3      Yes   62900  \n",
              "\n",
              "[4 rows x 22 columns]"
            ],
            "text/html": [
              "\n",
              "  <div id=\"df-b7df0340-37d5-4992-b26a-ea321a8289ff\">\n",
              "    <div class=\"colab-df-container\">\n",
              "      <div>\n",
              "<style scoped>\n",
              "    .dataframe tbody tr th:only-of-type {\n",
              "        vertical-align: middle;\n",
              "    }\n",
              "\n",
              "    .dataframe tbody tr th {\n",
              "        vertical-align: top;\n",
              "    }\n",
              "\n",
              "    .dataframe thead th {\n",
              "        text-align: right;\n",
              "    }\n",
              "</style>\n",
              "<table border=\"1\" class=\"dataframe\">\n",
              "  <thead>\n",
              "    <tr style=\"text-align: right;\">\n",
              "      <th></th>\n",
              "      <th>Unnamed: 0</th>\n",
              "      <th>Name</th>\n",
              "      <th>Brand</th>\n",
              "      <th>Model</th>\n",
              "      <th>Battery capacity (mAh)</th>\n",
              "      <th>Screen size (inches)</th>\n",
              "      <th>Touchscreen</th>\n",
              "      <th>Resolution x</th>\n",
              "      <th>Resolution y</th>\n",
              "      <th>Processor</th>\n",
              "      <th>...</th>\n",
              "      <th>Rear camera</th>\n",
              "      <th>Front camera</th>\n",
              "      <th>Operating system</th>\n",
              "      <th>Wi-Fi</th>\n",
              "      <th>Bluetooth</th>\n",
              "      <th>GPS</th>\n",
              "      <th>Number of SIMs</th>\n",
              "      <th>3G</th>\n",
              "      <th>4G/ LTE</th>\n",
              "      <th>Price</th>\n",
              "    </tr>\n",
              "  </thead>\n",
              "  <tbody>\n",
              "    <tr>\n",
              "      <th>0</th>\n",
              "      <td>0</td>\n",
              "      <td>OnePlus 7T Pro McLaren Edition</td>\n",
              "      <td>OnePlus</td>\n",
              "      <td>7T Pro McLaren Edition</td>\n",
              "      <td>4085</td>\n",
              "      <td>6.67</td>\n",
              "      <td>Yes</td>\n",
              "      <td>1440</td>\n",
              "      <td>3120</td>\n",
              "      <td>8</td>\n",
              "      <td>...</td>\n",
              "      <td>48.0</td>\n",
              "      <td>16.0</td>\n",
              "      <td>Android</td>\n",
              "      <td>Yes</td>\n",
              "      <td>Yes</td>\n",
              "      <td>Yes</td>\n",
              "      <td>2</td>\n",
              "      <td>Yes</td>\n",
              "      <td>Yes</td>\n",
              "      <td>58998</td>\n",
              "    </tr>\n",
              "    <tr>\n",
              "      <th>1</th>\n",
              "      <td>1</td>\n",
              "      <td>Realme X2 Pro</td>\n",
              "      <td>Realme</td>\n",
              "      <td>X2 Pro</td>\n",
              "      <td>4000</td>\n",
              "      <td>6.50</td>\n",
              "      <td>Yes</td>\n",
              "      <td>1080</td>\n",
              "      <td>2400</td>\n",
              "      <td>8</td>\n",
              "      <td>...</td>\n",
              "      <td>64.0</td>\n",
              "      <td>16.0</td>\n",
              "      <td>Android</td>\n",
              "      <td>Yes</td>\n",
              "      <td>Yes</td>\n",
              "      <td>Yes</td>\n",
              "      <td>2</td>\n",
              "      <td>Yes</td>\n",
              "      <td>Yes</td>\n",
              "      <td>27999</td>\n",
              "    </tr>\n",
              "    <tr>\n",
              "      <th>2</th>\n",
              "      <td>2</td>\n",
              "      <td>iPhone 11 Pro Max</td>\n",
              "      <td>Apple</td>\n",
              "      <td>iPhone 11 Pro Max</td>\n",
              "      <td>3969</td>\n",
              "      <td>6.50</td>\n",
              "      <td>Yes</td>\n",
              "      <td>1242</td>\n",
              "      <td>2688</td>\n",
              "      <td>6</td>\n",
              "      <td>...</td>\n",
              "      <td>12.0</td>\n",
              "      <td>12.0</td>\n",
              "      <td>iOS</td>\n",
              "      <td>Yes</td>\n",
              "      <td>Yes</td>\n",
              "      <td>Yes</td>\n",
              "      <td>2</td>\n",
              "      <td>Yes</td>\n",
              "      <td>Yes</td>\n",
              "      <td>106900</td>\n",
              "    </tr>\n",
              "    <tr>\n",
              "      <th>3</th>\n",
              "      <td>3</td>\n",
              "      <td>iPhone 11</td>\n",
              "      <td>Apple</td>\n",
              "      <td>iPhone 11</td>\n",
              "      <td>3110</td>\n",
              "      <td>6.10</td>\n",
              "      <td>Yes</td>\n",
              "      <td>828</td>\n",
              "      <td>1792</td>\n",
              "      <td>6</td>\n",
              "      <td>...</td>\n",
              "      <td>12.0</td>\n",
              "      <td>12.0</td>\n",
              "      <td>iOS</td>\n",
              "      <td>Yes</td>\n",
              "      <td>Yes</td>\n",
              "      <td>Yes</td>\n",
              "      <td>2</td>\n",
              "      <td>Yes</td>\n",
              "      <td>Yes</td>\n",
              "      <td>62900</td>\n",
              "    </tr>\n",
              "  </tbody>\n",
              "</table>\n",
              "<p>4 rows × 22 columns</p>\n",
              "</div>\n",
              "      <button class=\"colab-df-convert\" onclick=\"convertToInteractive('df-b7df0340-37d5-4992-b26a-ea321a8289ff')\"\n",
              "              title=\"Convert this dataframe to an interactive table.\"\n",
              "              style=\"display:none;\">\n",
              "        \n",
              "  <svg xmlns=\"http://www.w3.org/2000/svg\" height=\"24px\"viewBox=\"0 0 24 24\"\n",
              "       width=\"24px\">\n",
              "    <path d=\"M0 0h24v24H0V0z\" fill=\"none\"/>\n",
              "    <path d=\"M18.56 5.44l.94 2.06.94-2.06 2.06-.94-2.06-.94-.94-2.06-.94 2.06-2.06.94zm-11 1L8.5 8.5l.94-2.06 2.06-.94-2.06-.94L8.5 2.5l-.94 2.06-2.06.94zm10 10l.94 2.06.94-2.06 2.06-.94-2.06-.94-.94-2.06-.94 2.06-2.06.94z\"/><path d=\"M17.41 7.96l-1.37-1.37c-.4-.4-.92-.59-1.43-.59-.52 0-1.04.2-1.43.59L10.3 9.45l-7.72 7.72c-.78.78-.78 2.05 0 2.83L4 21.41c.39.39.9.59 1.41.59.51 0 1.02-.2 1.41-.59l7.78-7.78 2.81-2.81c.8-.78.8-2.07 0-2.86zM5.41 20L4 18.59l7.72-7.72 1.47 1.35L5.41 20z\"/>\n",
              "  </svg>\n",
              "      </button>\n",
              "      \n",
              "  <style>\n",
              "    .colab-df-container {\n",
              "      display:flex;\n",
              "      flex-wrap:wrap;\n",
              "      gap: 12px;\n",
              "    }\n",
              "\n",
              "    .colab-df-convert {\n",
              "      background-color: #E8F0FE;\n",
              "      border: none;\n",
              "      border-radius: 50%;\n",
              "      cursor: pointer;\n",
              "      display: none;\n",
              "      fill: #1967D2;\n",
              "      height: 32px;\n",
              "      padding: 0 0 0 0;\n",
              "      width: 32px;\n",
              "    }\n",
              "\n",
              "    .colab-df-convert:hover {\n",
              "      background-color: #E2EBFA;\n",
              "      box-shadow: 0px 1px 2px rgba(60, 64, 67, 0.3), 0px 1px 3px 1px rgba(60, 64, 67, 0.15);\n",
              "      fill: #174EA6;\n",
              "    }\n",
              "\n",
              "    [theme=dark] .colab-df-convert {\n",
              "      background-color: #3B4455;\n",
              "      fill: #D2E3FC;\n",
              "    }\n",
              "\n",
              "    [theme=dark] .colab-df-convert:hover {\n",
              "      background-color: #434B5C;\n",
              "      box-shadow: 0px 1px 3px 1px rgba(0, 0, 0, 0.15);\n",
              "      filter: drop-shadow(0px 1px 2px rgba(0, 0, 0, 0.3));\n",
              "      fill: #FFFFFF;\n",
              "    }\n",
              "  </style>\n",
              "\n",
              "      <script>\n",
              "        const buttonEl =\n",
              "          document.querySelector('#df-b7df0340-37d5-4992-b26a-ea321a8289ff button.colab-df-convert');\n",
              "        buttonEl.style.display =\n",
              "          google.colab.kernel.accessAllowed ? 'block' : 'none';\n",
              "\n",
              "        async function convertToInteractive(key) {\n",
              "          const element = document.querySelector('#df-b7df0340-37d5-4992-b26a-ea321a8289ff');\n",
              "          const dataTable =\n",
              "            await google.colab.kernel.invokeFunction('convertToInteractive',\n",
              "                                                     [key], {});\n",
              "          if (!dataTable) return;\n",
              "\n",
              "          const docLinkHtml = 'Like what you see? Visit the ' +\n",
              "            '<a target=\"_blank\" href=https://colab.research.google.com/notebooks/data_table.ipynb>data table notebook</a>'\n",
              "            + ' to learn more about interactive tables.';\n",
              "          element.innerHTML = '';\n",
              "          dataTable['output_type'] = 'display_data';\n",
              "          await google.colab.output.renderOutput(dataTable, element);\n",
              "          const docLink = document.createElement('div');\n",
              "          docLink.innerHTML = docLinkHtml;\n",
              "          element.appendChild(docLink);\n",
              "        }\n",
              "      </script>\n",
              "    </div>\n",
              "  </div>\n",
              "  "
            ]
          },
          "metadata": {},
          "execution_count": 4
        }
      ]
    },
    {
      "cell_type": "markdown",
      "source": [
        "# **Data Cleaning**"
      ],
      "metadata": {
        "id": "_AcMAlyxS_GV"
      }
    },
    {
      "cell_type": "code",
      "source": [
        "## Dataset is taken from Kaggle.So there is no missing value and it of correct type\n",
        "df.info()"
      ],
      "metadata": {
        "colab": {
          "base_uri": "https://localhost:8080/"
        },
        "id": "j0_K0vMlSwPN",
        "outputId": "059d3897-0b1e-4beb-8b02-07838bb1f49b"
      },
      "execution_count": 5,
      "outputs": [
        {
          "output_type": "stream",
          "name": "stdout",
          "text": [
            "<class 'pandas.core.frame.DataFrame'>\n",
            "RangeIndex: 1359 entries, 0 to 1358\n",
            "Data columns (total 22 columns):\n",
            " #   Column                  Non-Null Count  Dtype  \n",
            "---  ------                  --------------  -----  \n",
            " 0   Unnamed: 0              1359 non-null   int64  \n",
            " 1   Name                    1359 non-null   object \n",
            " 2   Brand                   1359 non-null   object \n",
            " 3   Model                   1359 non-null   object \n",
            " 4   Battery capacity (mAh)  1359 non-null   int64  \n",
            " 5   Screen size (inches)    1359 non-null   float64\n",
            " 6   Touchscreen             1359 non-null   object \n",
            " 7   Resolution x            1359 non-null   int64  \n",
            " 8   Resolution y            1359 non-null   int64  \n",
            " 9   Processor               1359 non-null   int64  \n",
            " 10  RAM (MB)                1359 non-null   int64  \n",
            " 11  Internal storage (GB)   1359 non-null   float64\n",
            " 12  Rear camera             1359 non-null   float64\n",
            " 13  Front camera            1359 non-null   float64\n",
            " 14  Operating system        1359 non-null   object \n",
            " 15  Wi-Fi                   1359 non-null   object \n",
            " 16  Bluetooth               1359 non-null   object \n",
            " 17  GPS                     1359 non-null   object \n",
            " 18  Number of SIMs          1359 non-null   int64  \n",
            " 19  3G                      1359 non-null   object \n",
            " 20  4G/ LTE                 1359 non-null   object \n",
            " 21  Price                   1359 non-null   int64  \n",
            "dtypes: float64(4), int64(8), object(10)\n",
            "memory usage: 233.7+ KB\n"
          ]
        }
      ]
    },
    {
      "cell_type": "code",
      "source": [
        "df.Price.max()"
      ],
      "metadata": {
        "colab": {
          "base_uri": "https://localhost:8080/"
        },
        "id": "DUm0rfvESvWx",
        "outputId": "ef4e7c28-4b94-4202-ed77-85bf1caeb053"
      },
      "execution_count": 6,
      "outputs": [
        {
          "output_type": "execute_result",
          "data": {
            "text/plain": [
              "174990"
            ]
          },
          "metadata": {},
          "execution_count": 6
        }
      ]
    },
    {
      "cell_type": "code",
      "source": [
        "df.Price.min()"
      ],
      "metadata": {
        "id": "FIy0WMSGSg8D",
        "colab": {
          "base_uri": "https://localhost:8080/"
        },
        "outputId": "60dae531-b998-475f-c85d-24ec693d6c48"
      },
      "execution_count": 7,
      "outputs": [
        {
          "output_type": "execute_result",
          "data": {
            "text/plain": [
              "494"
            ]
          },
          "metadata": {},
          "execution_count": 7
        }
      ]
    },
    {
      "cell_type": "code",
      "source": [
        "df.describe()"
      ],
      "metadata": {
        "id": "tUZuFZSjShBO",
        "colab": {
          "base_uri": "https://localhost:8080/",
          "height": 399
        },
        "outputId": "2f42e100-2b33-41bc-bea2-f268dd1dbc49"
      },
      "execution_count": 8,
      "outputs": [
        {
          "output_type": "execute_result",
          "data": {
            "text/plain": [
              "        Unnamed: 0  Battery capacity (mAh)  Screen size (inches)  \\\n",
              "count  1359.000000             1359.000000           1359.000000   \n",
              "mean    679.000000             2938.489330              5.291310   \n",
              "std     392.453819              873.514133              0.671357   \n",
              "min       0.000000             1010.000000              2.400000   \n",
              "25%     339.500000             2300.000000              5.000000   \n",
              "50%     679.000000             3000.000000              5.200000   \n",
              "75%    1018.500000             3500.000000              5.700000   \n",
              "max    1358.000000             6000.000000              7.300000   \n",
              "\n",
              "       Resolution x  Resolution y    Processor      RAM (MB)  \\\n",
              "count   1359.000000   1359.000000  1359.000000   1359.000000   \n",
              "mean     811.543046   1490.777778     5.551141   2488.777778   \n",
              "std      270.707271    557.780120     2.196562   1664.440386   \n",
              "min      240.000000    320.000000     1.000000     64.000000   \n",
              "25%      720.000000   1280.000000     4.000000   1000.000000   \n",
              "50%      720.000000   1280.000000     4.000000   2000.000000   \n",
              "75%     1080.000000   1920.000000     8.000000   3000.000000   \n",
              "max     2160.000000   3840.000000    10.000000  12000.000000   \n",
              "\n",
              "       Internal storage (GB)  Rear camera  Front camera  Number of SIMs  \\\n",
              "count            1359.000000  1359.000000   1359.000000     1359.000000   \n",
              "mean               30.654864    12.070199      7.037969        1.833701   \n",
              "std                36.950241     8.948337      6.295448        0.374457   \n",
              "min                 0.064000     0.000000      0.000000        1.000000   \n",
              "25%                 8.000000     8.000000      2.000000        2.000000   \n",
              "50%                16.000000    12.200000      5.000000        2.000000   \n",
              "75%                32.000000    13.000000      8.000000        2.000000   \n",
              "max               512.000000   108.000000     48.000000        3.000000   \n",
              "\n",
              "               Price  \n",
              "count    1359.000000  \n",
              "mean    11465.825607  \n",
              "std     13857.497077  \n",
              "min       494.000000  \n",
              "25%      4763.500000  \n",
              "50%      6999.000000  \n",
              "75%     11999.000000  \n",
              "max    174990.000000  "
            ],
            "text/html": [
              "\n",
              "  <div id=\"df-55665185-7454-4ac0-b5e8-3aa8dfd4d84a\">\n",
              "    <div class=\"colab-df-container\">\n",
              "      <div>\n",
              "<style scoped>\n",
              "    .dataframe tbody tr th:only-of-type {\n",
              "        vertical-align: middle;\n",
              "    }\n",
              "\n",
              "    .dataframe tbody tr th {\n",
              "        vertical-align: top;\n",
              "    }\n",
              "\n",
              "    .dataframe thead th {\n",
              "        text-align: right;\n",
              "    }\n",
              "</style>\n",
              "<table border=\"1\" class=\"dataframe\">\n",
              "  <thead>\n",
              "    <tr style=\"text-align: right;\">\n",
              "      <th></th>\n",
              "      <th>Unnamed: 0</th>\n",
              "      <th>Battery capacity (mAh)</th>\n",
              "      <th>Screen size (inches)</th>\n",
              "      <th>Resolution x</th>\n",
              "      <th>Resolution y</th>\n",
              "      <th>Processor</th>\n",
              "      <th>RAM (MB)</th>\n",
              "      <th>Internal storage (GB)</th>\n",
              "      <th>Rear camera</th>\n",
              "      <th>Front camera</th>\n",
              "      <th>Number of SIMs</th>\n",
              "      <th>Price</th>\n",
              "    </tr>\n",
              "  </thead>\n",
              "  <tbody>\n",
              "    <tr>\n",
              "      <th>count</th>\n",
              "      <td>1359.000000</td>\n",
              "      <td>1359.000000</td>\n",
              "      <td>1359.000000</td>\n",
              "      <td>1359.000000</td>\n",
              "      <td>1359.000000</td>\n",
              "      <td>1359.000000</td>\n",
              "      <td>1359.000000</td>\n",
              "      <td>1359.000000</td>\n",
              "      <td>1359.000000</td>\n",
              "      <td>1359.000000</td>\n",
              "      <td>1359.000000</td>\n",
              "      <td>1359.000000</td>\n",
              "    </tr>\n",
              "    <tr>\n",
              "      <th>mean</th>\n",
              "      <td>679.000000</td>\n",
              "      <td>2938.489330</td>\n",
              "      <td>5.291310</td>\n",
              "      <td>811.543046</td>\n",
              "      <td>1490.777778</td>\n",
              "      <td>5.551141</td>\n",
              "      <td>2488.777778</td>\n",
              "      <td>30.654864</td>\n",
              "      <td>12.070199</td>\n",
              "      <td>7.037969</td>\n",
              "      <td>1.833701</td>\n",
              "      <td>11465.825607</td>\n",
              "    </tr>\n",
              "    <tr>\n",
              "      <th>std</th>\n",
              "      <td>392.453819</td>\n",
              "      <td>873.514133</td>\n",
              "      <td>0.671357</td>\n",
              "      <td>270.707271</td>\n",
              "      <td>557.780120</td>\n",
              "      <td>2.196562</td>\n",
              "      <td>1664.440386</td>\n",
              "      <td>36.950241</td>\n",
              "      <td>8.948337</td>\n",
              "      <td>6.295448</td>\n",
              "      <td>0.374457</td>\n",
              "      <td>13857.497077</td>\n",
              "    </tr>\n",
              "    <tr>\n",
              "      <th>min</th>\n",
              "      <td>0.000000</td>\n",
              "      <td>1010.000000</td>\n",
              "      <td>2.400000</td>\n",
              "      <td>240.000000</td>\n",
              "      <td>320.000000</td>\n",
              "      <td>1.000000</td>\n",
              "      <td>64.000000</td>\n",
              "      <td>0.064000</td>\n",
              "      <td>0.000000</td>\n",
              "      <td>0.000000</td>\n",
              "      <td>1.000000</td>\n",
              "      <td>494.000000</td>\n",
              "    </tr>\n",
              "    <tr>\n",
              "      <th>25%</th>\n",
              "      <td>339.500000</td>\n",
              "      <td>2300.000000</td>\n",
              "      <td>5.000000</td>\n",
              "      <td>720.000000</td>\n",
              "      <td>1280.000000</td>\n",
              "      <td>4.000000</td>\n",
              "      <td>1000.000000</td>\n",
              "      <td>8.000000</td>\n",
              "      <td>8.000000</td>\n",
              "      <td>2.000000</td>\n",
              "      <td>2.000000</td>\n",
              "      <td>4763.500000</td>\n",
              "    </tr>\n",
              "    <tr>\n",
              "      <th>50%</th>\n",
              "      <td>679.000000</td>\n",
              "      <td>3000.000000</td>\n",
              "      <td>5.200000</td>\n",
              "      <td>720.000000</td>\n",
              "      <td>1280.000000</td>\n",
              "      <td>4.000000</td>\n",
              "      <td>2000.000000</td>\n",
              "      <td>16.000000</td>\n",
              "      <td>12.200000</td>\n",
              "      <td>5.000000</td>\n",
              "      <td>2.000000</td>\n",
              "      <td>6999.000000</td>\n",
              "    </tr>\n",
              "    <tr>\n",
              "      <th>75%</th>\n",
              "      <td>1018.500000</td>\n",
              "      <td>3500.000000</td>\n",
              "      <td>5.700000</td>\n",
              "      <td>1080.000000</td>\n",
              "      <td>1920.000000</td>\n",
              "      <td>8.000000</td>\n",
              "      <td>3000.000000</td>\n",
              "      <td>32.000000</td>\n",
              "      <td>13.000000</td>\n",
              "      <td>8.000000</td>\n",
              "      <td>2.000000</td>\n",
              "      <td>11999.000000</td>\n",
              "    </tr>\n",
              "    <tr>\n",
              "      <th>max</th>\n",
              "      <td>1358.000000</td>\n",
              "      <td>6000.000000</td>\n",
              "      <td>7.300000</td>\n",
              "      <td>2160.000000</td>\n",
              "      <td>3840.000000</td>\n",
              "      <td>10.000000</td>\n",
              "      <td>12000.000000</td>\n",
              "      <td>512.000000</td>\n",
              "      <td>108.000000</td>\n",
              "      <td>48.000000</td>\n",
              "      <td>3.000000</td>\n",
              "      <td>174990.000000</td>\n",
              "    </tr>\n",
              "  </tbody>\n",
              "</table>\n",
              "</div>\n",
              "      <button class=\"colab-df-convert\" onclick=\"convertToInteractive('df-55665185-7454-4ac0-b5e8-3aa8dfd4d84a')\"\n",
              "              title=\"Convert this dataframe to an interactive table.\"\n",
              "              style=\"display:none;\">\n",
              "        \n",
              "  <svg xmlns=\"http://www.w3.org/2000/svg\" height=\"24px\"viewBox=\"0 0 24 24\"\n",
              "       width=\"24px\">\n",
              "    <path d=\"M0 0h24v24H0V0z\" fill=\"none\"/>\n",
              "    <path d=\"M18.56 5.44l.94 2.06.94-2.06 2.06-.94-2.06-.94-.94-2.06-.94 2.06-2.06.94zm-11 1L8.5 8.5l.94-2.06 2.06-.94-2.06-.94L8.5 2.5l-.94 2.06-2.06.94zm10 10l.94 2.06.94-2.06 2.06-.94-2.06-.94-.94-2.06-.94 2.06-2.06.94z\"/><path d=\"M17.41 7.96l-1.37-1.37c-.4-.4-.92-.59-1.43-.59-.52 0-1.04.2-1.43.59L10.3 9.45l-7.72 7.72c-.78.78-.78 2.05 0 2.83L4 21.41c.39.39.9.59 1.41.59.51 0 1.02-.2 1.41-.59l7.78-7.78 2.81-2.81c.8-.78.8-2.07 0-2.86zM5.41 20L4 18.59l7.72-7.72 1.47 1.35L5.41 20z\"/>\n",
              "  </svg>\n",
              "      </button>\n",
              "      \n",
              "  <style>\n",
              "    .colab-df-container {\n",
              "      display:flex;\n",
              "      flex-wrap:wrap;\n",
              "      gap: 12px;\n",
              "    }\n",
              "\n",
              "    .colab-df-convert {\n",
              "      background-color: #E8F0FE;\n",
              "      border: none;\n",
              "      border-radius: 50%;\n",
              "      cursor: pointer;\n",
              "      display: none;\n",
              "      fill: #1967D2;\n",
              "      height: 32px;\n",
              "      padding: 0 0 0 0;\n",
              "      width: 32px;\n",
              "    }\n",
              "\n",
              "    .colab-df-convert:hover {\n",
              "      background-color: #E2EBFA;\n",
              "      box-shadow: 0px 1px 2px rgba(60, 64, 67, 0.3), 0px 1px 3px 1px rgba(60, 64, 67, 0.15);\n",
              "      fill: #174EA6;\n",
              "    }\n",
              "\n",
              "    [theme=dark] .colab-df-convert {\n",
              "      background-color: #3B4455;\n",
              "      fill: #D2E3FC;\n",
              "    }\n",
              "\n",
              "    [theme=dark] .colab-df-convert:hover {\n",
              "      background-color: #434B5C;\n",
              "      box-shadow: 0px 1px 3px 1px rgba(0, 0, 0, 0.15);\n",
              "      filter: drop-shadow(0px 1px 2px rgba(0, 0, 0, 0.3));\n",
              "      fill: #FFFFFF;\n",
              "    }\n",
              "  </style>\n",
              "\n",
              "      <script>\n",
              "        const buttonEl =\n",
              "          document.querySelector('#df-55665185-7454-4ac0-b5e8-3aa8dfd4d84a button.colab-df-convert');\n",
              "        buttonEl.style.display =\n",
              "          google.colab.kernel.accessAllowed ? 'block' : 'none';\n",
              "\n",
              "        async function convertToInteractive(key) {\n",
              "          const element = document.querySelector('#df-55665185-7454-4ac0-b5e8-3aa8dfd4d84a');\n",
              "          const dataTable =\n",
              "            await google.colab.kernel.invokeFunction('convertToInteractive',\n",
              "                                                     [key], {});\n",
              "          if (!dataTable) return;\n",
              "\n",
              "          const docLinkHtml = 'Like what you see? Visit the ' +\n",
              "            '<a target=\"_blank\" href=https://colab.research.google.com/notebooks/data_table.ipynb>data table notebook</a>'\n",
              "            + ' to learn more about interactive tables.';\n",
              "          element.innerHTML = '';\n",
              "          dataTable['output_type'] = 'display_data';\n",
              "          await google.colab.output.renderOutput(dataTable, element);\n",
              "          const docLink = document.createElement('div');\n",
              "          docLink.innerHTML = docLinkHtml;\n",
              "          element.appendChild(docLink);\n",
              "        }\n",
              "      </script>\n",
              "    </div>\n",
              "  </div>\n",
              "  "
            ]
          },
          "metadata": {},
          "execution_count": 8
        }
      ]
    },
    {
      "cell_type": "code",
      "source": [
        "## Remove none utilizing column \n",
        "df.drop('Name', axis=1, inplace=True)\n",
        "df.drop('Unnamed: 0', axis=1, inplace=True)\n",
        "df.drop('Resolution x', axis=1, inplace=True)\n",
        "df.drop('Resolution y', axis=1, inplace=True)"
      ],
      "metadata": {
        "id": "L3hh0lVeShGb"
      },
      "execution_count": 9,
      "outputs": []
    },
    {
      "cell_type": "code",
      "source": [
        "df.sample(4)"
      ],
      "metadata": {
        "id": "6XJREchFShLN",
        "colab": {
          "base_uri": "https://localhost:8080/",
          "height": 340
        },
        "outputId": "1f98eb1b-f5da-4ad3-895e-dc912803a937"
      },
      "execution_count": 10,
      "outputs": [
        {
          "output_type": "execute_result",
          "data": {
            "text/plain": [
              "          Brand               Model  Battery capacity (mAh)  \\\n",
              "1067  Panasonic            T44 Lite                    2400   \n",
              "1151         Yu           reka Note                    4000   \n",
              "707        Vivo                 Z10                    3225   \n",
              "537   Microsoft  Lumia 540 Dual SIM                    2200   \n",
              "\n",
              "      Screen size (inches) Touchscreen  Processor  RAM (MB)  \\\n",
              "1067                   4.0         Yes          4       512   \n",
              "1151                   6.0         Yes          8      3000   \n",
              "707                    6.0         Yes          8      4000   \n",
              "537                    5.0         Yes          4      1000   \n",
              "\n",
              "      Internal storage (GB)  Rear camera  Front camera Operating system Wi-Fi  \\\n",
              "1067                    8.0          2.0           0.3          Android   Yes   \n",
              "1151                   16.0         13.0           5.0          Android   Yes   \n",
              "707                    32.0         16.0          24.0          Android   Yes   \n",
              "537                     8.0          8.0           5.0          Windows   Yes   \n",
              "\n",
              "     Bluetooth  GPS  Number of SIMs   3G 4G/ LTE  Price  \n",
              "1067       Yes   No               2  Yes      No   2190  \n",
              "1151       Yes  Yes               2  Yes     Yes   6499  \n",
              "707        Yes  Yes               1   No      No   7994  \n",
              "537        Yes  Yes               2  Yes      No   7000  "
            ],
            "text/html": [
              "\n",
              "  <div id=\"df-49550a33-08e6-4ebd-8739-829fd9f16ada\">\n",
              "    <div class=\"colab-df-container\">\n",
              "      <div>\n",
              "<style scoped>\n",
              "    .dataframe tbody tr th:only-of-type {\n",
              "        vertical-align: middle;\n",
              "    }\n",
              "\n",
              "    .dataframe tbody tr th {\n",
              "        vertical-align: top;\n",
              "    }\n",
              "\n",
              "    .dataframe thead th {\n",
              "        text-align: right;\n",
              "    }\n",
              "</style>\n",
              "<table border=\"1\" class=\"dataframe\">\n",
              "  <thead>\n",
              "    <tr style=\"text-align: right;\">\n",
              "      <th></th>\n",
              "      <th>Brand</th>\n",
              "      <th>Model</th>\n",
              "      <th>Battery capacity (mAh)</th>\n",
              "      <th>Screen size (inches)</th>\n",
              "      <th>Touchscreen</th>\n",
              "      <th>Processor</th>\n",
              "      <th>RAM (MB)</th>\n",
              "      <th>Internal storage (GB)</th>\n",
              "      <th>Rear camera</th>\n",
              "      <th>Front camera</th>\n",
              "      <th>Operating system</th>\n",
              "      <th>Wi-Fi</th>\n",
              "      <th>Bluetooth</th>\n",
              "      <th>GPS</th>\n",
              "      <th>Number of SIMs</th>\n",
              "      <th>3G</th>\n",
              "      <th>4G/ LTE</th>\n",
              "      <th>Price</th>\n",
              "    </tr>\n",
              "  </thead>\n",
              "  <tbody>\n",
              "    <tr>\n",
              "      <th>1067</th>\n",
              "      <td>Panasonic</td>\n",
              "      <td>T44 Lite</td>\n",
              "      <td>2400</td>\n",
              "      <td>4.0</td>\n",
              "      <td>Yes</td>\n",
              "      <td>4</td>\n",
              "      <td>512</td>\n",
              "      <td>8.0</td>\n",
              "      <td>2.0</td>\n",
              "      <td>0.3</td>\n",
              "      <td>Android</td>\n",
              "      <td>Yes</td>\n",
              "      <td>Yes</td>\n",
              "      <td>No</td>\n",
              "      <td>2</td>\n",
              "      <td>Yes</td>\n",
              "      <td>No</td>\n",
              "      <td>2190</td>\n",
              "    </tr>\n",
              "    <tr>\n",
              "      <th>1151</th>\n",
              "      <td>Yu</td>\n",
              "      <td>reka Note</td>\n",
              "      <td>4000</td>\n",
              "      <td>6.0</td>\n",
              "      <td>Yes</td>\n",
              "      <td>8</td>\n",
              "      <td>3000</td>\n",
              "      <td>16.0</td>\n",
              "      <td>13.0</td>\n",
              "      <td>5.0</td>\n",
              "      <td>Android</td>\n",
              "      <td>Yes</td>\n",
              "      <td>Yes</td>\n",
              "      <td>Yes</td>\n",
              "      <td>2</td>\n",
              "      <td>Yes</td>\n",
              "      <td>Yes</td>\n",
              "      <td>6499</td>\n",
              "    </tr>\n",
              "    <tr>\n",
              "      <th>707</th>\n",
              "      <td>Vivo</td>\n",
              "      <td>Z10</td>\n",
              "      <td>3225</td>\n",
              "      <td>6.0</td>\n",
              "      <td>Yes</td>\n",
              "      <td>8</td>\n",
              "      <td>4000</td>\n",
              "      <td>32.0</td>\n",
              "      <td>16.0</td>\n",
              "      <td>24.0</td>\n",
              "      <td>Android</td>\n",
              "      <td>Yes</td>\n",
              "      <td>Yes</td>\n",
              "      <td>Yes</td>\n",
              "      <td>1</td>\n",
              "      <td>No</td>\n",
              "      <td>No</td>\n",
              "      <td>7994</td>\n",
              "    </tr>\n",
              "    <tr>\n",
              "      <th>537</th>\n",
              "      <td>Microsoft</td>\n",
              "      <td>Lumia 540 Dual SIM</td>\n",
              "      <td>2200</td>\n",
              "      <td>5.0</td>\n",
              "      <td>Yes</td>\n",
              "      <td>4</td>\n",
              "      <td>1000</td>\n",
              "      <td>8.0</td>\n",
              "      <td>8.0</td>\n",
              "      <td>5.0</td>\n",
              "      <td>Windows</td>\n",
              "      <td>Yes</td>\n",
              "      <td>Yes</td>\n",
              "      <td>Yes</td>\n",
              "      <td>2</td>\n",
              "      <td>Yes</td>\n",
              "      <td>No</td>\n",
              "      <td>7000</td>\n",
              "    </tr>\n",
              "  </tbody>\n",
              "</table>\n",
              "</div>\n",
              "      <button class=\"colab-df-convert\" onclick=\"convertToInteractive('df-49550a33-08e6-4ebd-8739-829fd9f16ada')\"\n",
              "              title=\"Convert this dataframe to an interactive table.\"\n",
              "              style=\"display:none;\">\n",
              "        \n",
              "  <svg xmlns=\"http://www.w3.org/2000/svg\" height=\"24px\"viewBox=\"0 0 24 24\"\n",
              "       width=\"24px\">\n",
              "    <path d=\"M0 0h24v24H0V0z\" fill=\"none\"/>\n",
              "    <path d=\"M18.56 5.44l.94 2.06.94-2.06 2.06-.94-2.06-.94-.94-2.06-.94 2.06-2.06.94zm-11 1L8.5 8.5l.94-2.06 2.06-.94-2.06-.94L8.5 2.5l-.94 2.06-2.06.94zm10 10l.94 2.06.94-2.06 2.06-.94-2.06-.94-.94-2.06-.94 2.06-2.06.94z\"/><path d=\"M17.41 7.96l-1.37-1.37c-.4-.4-.92-.59-1.43-.59-.52 0-1.04.2-1.43.59L10.3 9.45l-7.72 7.72c-.78.78-.78 2.05 0 2.83L4 21.41c.39.39.9.59 1.41.59.51 0 1.02-.2 1.41-.59l7.78-7.78 2.81-2.81c.8-.78.8-2.07 0-2.86zM5.41 20L4 18.59l7.72-7.72 1.47 1.35L5.41 20z\"/>\n",
              "  </svg>\n",
              "      </button>\n",
              "      \n",
              "  <style>\n",
              "    .colab-df-container {\n",
              "      display:flex;\n",
              "      flex-wrap:wrap;\n",
              "      gap: 12px;\n",
              "    }\n",
              "\n",
              "    .colab-df-convert {\n",
              "      background-color: #E8F0FE;\n",
              "      border: none;\n",
              "      border-radius: 50%;\n",
              "      cursor: pointer;\n",
              "      display: none;\n",
              "      fill: #1967D2;\n",
              "      height: 32px;\n",
              "      padding: 0 0 0 0;\n",
              "      width: 32px;\n",
              "    }\n",
              "\n",
              "    .colab-df-convert:hover {\n",
              "      background-color: #E2EBFA;\n",
              "      box-shadow: 0px 1px 2px rgba(60, 64, 67, 0.3), 0px 1px 3px 1px rgba(60, 64, 67, 0.15);\n",
              "      fill: #174EA6;\n",
              "    }\n",
              "\n",
              "    [theme=dark] .colab-df-convert {\n",
              "      background-color: #3B4455;\n",
              "      fill: #D2E3FC;\n",
              "    }\n",
              "\n",
              "    [theme=dark] .colab-df-convert:hover {\n",
              "      background-color: #434B5C;\n",
              "      box-shadow: 0px 1px 3px 1px rgba(0, 0, 0, 0.15);\n",
              "      filter: drop-shadow(0px 1px 2px rgba(0, 0, 0, 0.3));\n",
              "      fill: #FFFFFF;\n",
              "    }\n",
              "  </style>\n",
              "\n",
              "      <script>\n",
              "        const buttonEl =\n",
              "          document.querySelector('#df-49550a33-08e6-4ebd-8739-829fd9f16ada button.colab-df-convert');\n",
              "        buttonEl.style.display =\n",
              "          google.colab.kernel.accessAllowed ? 'block' : 'none';\n",
              "\n",
              "        async function convertToInteractive(key) {\n",
              "          const element = document.querySelector('#df-49550a33-08e6-4ebd-8739-829fd9f16ada');\n",
              "          const dataTable =\n",
              "            await google.colab.kernel.invokeFunction('convertToInteractive',\n",
              "                                                     [key], {});\n",
              "          if (!dataTable) return;\n",
              "\n",
              "          const docLinkHtml = 'Like what you see? Visit the ' +\n",
              "            '<a target=\"_blank\" href=https://colab.research.google.com/notebooks/data_table.ipynb>data table notebook</a>'\n",
              "            + ' to learn more about interactive tables.';\n",
              "          element.innerHTML = '';\n",
              "          dataTable['output_type'] = 'display_data';\n",
              "          await google.colab.output.renderOutput(dataTable, element);\n",
              "          const docLink = document.createElement('div');\n",
              "          docLink.innerHTML = docLinkHtml;\n",
              "          element.appendChild(docLink);\n",
              "        }\n",
              "      </script>\n",
              "    </div>\n",
              "  </div>\n",
              "  "
            ]
          },
          "metadata": {},
          "execution_count": 10
        }
      ]
    },
    {
      "cell_type": "code",
      "source": [
        "plt.style.available"
      ],
      "metadata": {
        "id": "LIl2lnDgShPo",
        "colab": {
          "base_uri": "https://localhost:8080/"
        },
        "outputId": "d7f1a342-dd55-44a4-8217-3b327b5241b2"
      },
      "execution_count": 11,
      "outputs": [
        {
          "output_type": "execute_result",
          "data": {
            "text/plain": [
              "['Solarize_Light2',\n",
              " '_classic_test_patch',\n",
              " 'bmh',\n",
              " 'classic',\n",
              " 'dark_background',\n",
              " 'fast',\n",
              " 'fivethirtyeight',\n",
              " 'ggplot',\n",
              " 'grayscale',\n",
              " 'seaborn',\n",
              " 'seaborn-bright',\n",
              " 'seaborn-colorblind',\n",
              " 'seaborn-dark',\n",
              " 'seaborn-dark-palette',\n",
              " 'seaborn-darkgrid',\n",
              " 'seaborn-deep',\n",
              " 'seaborn-muted',\n",
              " 'seaborn-notebook',\n",
              " 'seaborn-paper',\n",
              " 'seaborn-pastel',\n",
              " 'seaborn-poster',\n",
              " 'seaborn-talk',\n",
              " 'seaborn-ticks',\n",
              " 'seaborn-white',\n",
              " 'seaborn-whitegrid',\n",
              " 'tableau-colorblind10']"
            ]
          },
          "metadata": {},
          "execution_count": 11
        }
      ]
    },
    {
      "cell_type": "code",
      "source": [
        "plt.style.use('ggplot')"
      ],
      "metadata": {
        "id": "GCuYXrq9ShUO"
      },
      "execution_count": 12,
      "outputs": []
    },
    {
      "cell_type": "code",
      "source": [
        "plt.figure(figsize=(12,4))\n",
        "df.Brand.value_counts().head(10).plot(kind='bar');"
      ],
      "metadata": {
        "id": "RJ3vvbidShY-",
        "colab": {
          "base_uri": "https://localhost:8080/",
          "height": 305
        },
        "outputId": "cb91830e-c4ac-45f1-c9bc-daefcb95c42b"
      },
      "execution_count": 13,
      "outputs": [
        {
          "output_type": "display_data",
          "data": {
            "text/plain": [
              "<Figure size 864x288 with 1 Axes>"
            ],
            "image/png": "[encoded data removed]"
          },
          "metadata": {}
        }
      ]
    },
    {
      "cell_type": "markdown",
      "source": [
        "Obervation: Higher number of mobile belong to Intex brand followed by Samsung\n"
      ],
      "metadata": {
        "id": "-uQdDrLqS2o8"
      }
    },
    {
      "cell_type": "code",
      "source": [
        "sns.set_theme(style= 'ticks')\n",
        "sns.pairplot(df, hue= 'Price');"
      ],
      "metadata": {
        "id": "Cz-VTDqcShnD",
        "colab": {
          "base_uri": "https://localhost:8080/",
          "height": 1000
        },
        "outputId": "356ecc53-bf9a-4c63-a0cd-1b709da7865c"
      },
      "execution_count": 14,
      "outputs": [
        {
          "output_type": "display_data",
          "data": {
            "text/plain": [
              "<Figure size 1521.47x1440 with 72 Axes>"
            ],
            "image/png": "[encoded data removed]"
          },
          "metadata": {}
        }
      ]
    },
    {
      "cell_type": "code",
      "source": [
        "plt.figure(figsize=(12,6))\n",
        "sns.lineplot(x= 'Price', y= 'Screen size (inches)', data= df);"
      ],
      "metadata": {
        "id": "bZnbOSQ5ShwN",
        "colab": {
          "base_uri": "https://localhost:8080/",
          "height": 394
        },
        "outputId": "a6e52cc3-3135-48d0-d03c-ee8b6d2274d5"
      },
      "execution_count": 15,
      "outputs": [
        {
          "output_type": "display_data",
          "data": {
            "text/plain": [
              "<Figure size 864x432 with 1 Axes>"
            ],
            "image/png": "[encoded data removed]"
          },
          "metadata": {}
        }
      ]
    },
    {
      "cell_type": "markdown",
      "source": [
        "Observation: Biggest screen size is 7 inch, which belong in the price range of above 1.60L"
      ],
      "metadata": {
        "id": "cVKF5y0kTbI9"
      }
    },
    {
      "cell_type": "code",
      "source": [
        "plt.figure(figsize=(16,6))\n",
        "sns.histplot(df.Price, kde=True);"
      ],
      "metadata": {
        "id": "QvAjWBD3Sh0l",
        "colab": {
          "base_uri": "https://localhost:8080/",
          "height": 394
        },
        "outputId": "7966637c-b611-4e62-895b-3c58c321a7d7"
      },
      "execution_count": 16,
      "outputs": [
        {
          "output_type": "display_data",
          "data": {
            "text/plain": [
              "<Figure size 1152x432 with 1 Axes>"
            ],
            "image/png": "[encoded data removed]"
          },
          "metadata": {}
        }
      ]
    },
    {
      "cell_type": "code",
      "source": [
        "df.columns"
      ],
      "metadata": {
        "id": "JPOdAye0Sh9q",
        "colab": {
          "base_uri": "https://localhost:8080/"
        },
        "outputId": "0e05a4cb-7dd5-4fe1-db35-534524af69e8"
      },
      "execution_count": 17,
      "outputs": [
        {
          "output_type": "execute_result",
          "data": {
            "text/plain": [
              "Index(['Brand', 'Model', 'Battery capacity (mAh)', 'Screen size (inches)',\n",
              "       'Touchscreen', 'Processor', 'RAM (MB)', 'Internal storage (GB)',\n",
              "       'Rear camera', 'Front camera', 'Operating system', 'Wi-Fi', 'Bluetooth',\n",
              "       'GPS', 'Number of SIMs', '3G', '4G/ LTE', 'Price'],\n",
              "      dtype='object')"
            ]
          },
          "metadata": {},
          "execution_count": 17
        }
      ]
    },
    {
      "cell_type": "code",
      "source": [
        "## Renaming the name of the column\n",
        "col_nams = ['Brand', 'Model', 'Batterycapacity', 'Screensize',\n",
        "       'Touchscreen', 'Processor', 'RAM', 'Internalstorage',\n",
        "       'RearCamera', 'FrontCamera', 'OperatingSystem', 'WiFi', 'Bluetooth',\n",
        "       'GPS', 'NumberofSIMs', 'ThreeG', 'FourG', 'Price']"
      ],
      "metadata": {
        "id": "BS6KzSegSiC5"
      },
      "execution_count": 18,
      "outputs": []
    },
    {
      "cell_type": "code",
      "source": [
        "df.columns = col_nams"
      ],
      "metadata": {
        "id": "9crEmuQ1SiHZ"
      },
      "execution_count": 19,
      "outputs": []
    },
    {
      "cell_type": "code",
      "source": [
        "df.info()"
      ],
      "metadata": {
        "id": "EbQEHSoQSiLs",
        "colab": {
          "base_uri": "https://localhost:8080/"
        },
        "outputId": "d7fbee0b-0670-490f-aef3-a2cfd17e5365"
      },
      "execution_count": 20,
      "outputs": [
        {
          "output_type": "stream",
          "name": "stdout",
          "text": [
            "<class 'pandas.core.frame.DataFrame'>\n",
            "RangeIndex: 1359 entries, 0 to 1358\n",
            "Data columns (total 18 columns):\n",
            " #   Column           Non-Null Count  Dtype  \n",
            "---  ------           --------------  -----  \n",
            " 0   Brand            1359 non-null   object \n",
            " 1   Model            1359 non-null   object \n",
            " 2   Batterycapacity  1359 non-null   int64  \n",
            " 3   Screensize       1359 non-null   float64\n",
            " 4   Touchscreen      1359 non-null   object \n",
            " 5   Processor        1359 non-null   int64  \n",
            " 6   RAM              1359 non-null   int64  \n",
            " 7   Internalstorage  1359 non-null   float64\n",
            " 8   RearCamera       1359 non-null   float64\n",
            " 9   FrontCamera      1359 non-null   float64\n",
            " 10  OperatingSystem  1359 non-null   object \n",
            " 11  WiFi             1359 non-null   object \n",
            " 12  Bluetooth        1359 non-null   object \n",
            " 13  GPS              1359 non-null   object \n",
            " 14  NumberofSIMs     1359 non-null   int64  \n",
            " 15  ThreeG           1359 non-null   object \n",
            " 16  FourG            1359 non-null   object \n",
            " 17  Price            1359 non-null   int64  \n",
            "dtypes: float64(4), int64(5), object(9)\n",
            "memory usage: 191.2+ KB\n"
          ]
        }
      ]
    },
    {
      "cell_type": "code",
      "source": [
        "## Changing categorical feature into binary number\n",
        "df.Touchscreen = df.Touchscreen.map({'Yes':1,'No':0}).astype('int64')\n",
        "df.WiFi = df.WiFi.map({'Yes':1,'No':0}).astype('int64')\n",
        "df.Bluetooth = df.Bluetooth.map({'Yes':1,'No':0}).astype('int64')\n",
        "df.GPS = df.GPS.map({'Yes':1,'No':0}).astype('int64')\n",
        "df.ThreeG = df.ThreeG.map({'Yes':1,'No':0}).astype('int64')\n",
        "df.FourG = df.FourG.map({'Yes':1,'No':0}).astype('int64')\n"
      ],
      "metadata": {
        "id": "3vehX_h6SiUn"
      },
      "execution_count": 21,
      "outputs": []
    },
    {
      "cell_type": "code",
      "source": [
        "## changing object type into integer\n",
        "df.Internalstorage = df.Internalstorage.astype('int64')\n",
        "df.RearCamera = df.RearCamera.astype('int64')\n",
        "df.FrontCamera = df.FrontCamera.astype('int64')\n",
        "df.Screensize = df.Screensize.astype('int64')"
      ],
      "metadata": {
        "id": "nfiw5mHS7exo"
      },
      "execution_count": 22,
      "outputs": []
    },
    {
      "cell_type": "code",
      "source": [
        "df.info()"
      ],
      "metadata": {
        "colab": {
          "base_uri": "https://localhost:8080/"
        },
        "id": "0K4MnauU7FQb",
        "outputId": "653ef97c-d74e-4caf-eaae-02f84fc212e5"
      },
      "execution_count": 23,
      "outputs": [
        {
          "output_type": "stream",
          "name": "stdout",
          "text": [
            "<class 'pandas.core.frame.DataFrame'>\n",
            "RangeIndex: 1359 entries, 0 to 1358\n",
            "Data columns (total 18 columns):\n",
            " #   Column           Non-Null Count  Dtype \n",
            "---  ------           --------------  ----- \n",
            " 0   Brand            1359 non-null   object\n",
            " 1   Model            1359 non-null   object\n",
            " 2   Batterycapacity  1359 non-null   int64 \n",
            " 3   Screensize       1359 non-null   int64 \n",
            " 4   Touchscreen      1359 non-null   int64 \n",
            " 5   Processor        1359 non-null   int64 \n",
            " 6   RAM              1359 non-null   int64 \n",
            " 7   Internalstorage  1359 non-null   int64 \n",
            " 8   RearCamera       1359 non-null   int64 \n",
            " 9   FrontCamera      1359 non-null   int64 \n",
            " 10  OperatingSystem  1359 non-null   object\n",
            " 11  WiFi             1359 non-null   int64 \n",
            " 12  Bluetooth        1359 non-null   int64 \n",
            " 13  GPS              1359 non-null   int64 \n",
            " 14  NumberofSIMs     1359 non-null   int64 \n",
            " 15  ThreeG           1359 non-null   int64 \n",
            " 16  FourG            1359 non-null   int64 \n",
            " 17  Price            1359 non-null   int64 \n",
            "dtypes: int64(15), object(3)\n",
            "memory usage: 191.2+ KB\n"
          ]
        }
      ]
    },
    {
      "cell_type": "code",
      "source": [
        "## To remove decimal from column Internal Storage, Rear Camera, front Camera & screen size\n",
        "def point(st):\n",
        "    return st.split('.')[0]"
      ],
      "metadata": {
        "id": "82lj1j2uUcdC"
      },
      "execution_count": 24,
      "outputs": []
    },
    {
      "cell_type": "code",
      "source": [
        "df.Internalstorage.unique()"
      ],
      "metadata": {
        "colab": {
          "base_uri": "https://localhost:8080/"
        },
        "id": "Q_R6qShQAqSM",
        "outputId": "93068b7c-c09e-4740-bafe-288e4180b302"
      },
      "execution_count": 25,
      "outputs": [
        {
          "output_type": "execute_result",
          "data": {
            "text/plain": [
              "array([256,  64, 128,  32,  16,   8,   4,   0,   3, 512,   2,   1])"
            ]
          },
          "metadata": {},
          "execution_count": 25
        }
      ]
    },
    {
      "cell_type": "code",
      "source": [
        "# df.RearCamera.apply(point)"
      ],
      "metadata": {
        "id": "HGGv7l93SiZS"
      },
      "execution_count": 26,
      "outputs": []
    },
    {
      "cell_type": "code",
      "source": [
        "df.RearCamera.unique()"
      ],
      "metadata": {
        "id": "Ll44ebpYSidf",
        "colab": {
          "base_uri": "https://localhost:8080/"
        },
        "outputId": "e3848333-6667-4765-caad-25246fd0d760"
      },
      "execution_count": 27,
      "outputs": [
        {
          "output_type": "execute_result",
          "data": {
            "text/plain": [
              "array([ 48,  64,  12,  16,  40,  13,  23,  21,  32,  24,  20,  19,   2,\n",
              "        18,   8,   5,  10,   3,  41, 108,  25,   0,  15])"
            ]
          },
          "metadata": {},
          "execution_count": 27
        }
      ]
    },
    {
      "cell_type": "code",
      "source": [
        "# df.FrontCamera.apply(point)"
      ],
      "metadata": {
        "id": "PvVMaKl5BKzG"
      },
      "execution_count": 28,
      "outputs": []
    },
    {
      "cell_type": "code",
      "source": [
        "df.FrontCamera.unique()"
      ],
      "metadata": {
        "colab": {
          "base_uri": "https://localhost:8080/"
        },
        "id": "-5zUtnCDBUtK",
        "outputId": "65fbf900-25fe-46d8-d9e4-bf49a03ca840"
      },
      "execution_count": 29,
      "outputs": [
        {
          "output_type": "execute_result",
          "data": {
            "text/plain": [
              "array([16, 12, 32, 10, 24, 20, 25, 13,  8,  7,  5,  4, 48,  0,  1,  2,  3,\n",
              "       40])"
            ]
          },
          "metadata": {},
          "execution_count": 29
        }
      ]
    },
    {
      "cell_type": "code",
      "source": [
        "# df.Screensize.apply(point)"
      ],
      "metadata": {
        "id": "pi-MP5YtCBAZ"
      },
      "execution_count": 30,
      "outputs": []
    },
    {
      "cell_type": "code",
      "source": [
        "df.Screensize.unique()"
      ],
      "metadata": {
        "colab": {
          "base_uri": "https://localhost:8080/"
        },
        "id": "_qgLBq0mCEIg",
        "outputId": "ca05129d-460a-470f-8290-5b0722246b02"
      },
      "execution_count": 31,
      "outputs": [
        {
          "output_type": "execute_result",
          "data": {
            "text/plain": [
              "array([6, 5, 4, 2, 3, 7])"
            ]
          },
          "metadata": {},
          "execution_count": 31
        }
      ]
    },
    {
      "cell_type": "code",
      "source": [
        "df.sample(4)"
      ],
      "metadata": {
        "colab": {
          "base_uri": "https://localhost:8080/",
          "height": 291
        },
        "id": "h3nKdItbBmix",
        "outputId": "1bfedae4-4d5d-4064-f025-f305b14a995a"
      },
      "execution_count": 32,
      "outputs": [
        {
          "output_type": "execute_result",
          "data": {
            "text/plain": [
              "       Brand              Model  Batterycapacity  Screensize  Touchscreen  \\\n",
              "589    Nokia          Lumia 520             1430           4            1   \n",
              "290   Realme                 C1             4230           6            1   \n",
              "1096    Oppo                A37             2630           5            1   \n",
              "912    Intex  Aqua Crystal Plus             2100           5            1   \n",
              "\n",
              "      Processor   RAM  Internalstorage  RearCamera  FrontCamera  \\\n",
              "589           2   512                8           5            0   \n",
              "290           8  2000               16          13            5   \n",
              "1096          4  2000               16           8            5   \n",
              "912           4  2000               16          13            5   \n",
              "\n",
              "     OperatingSystem  WiFi  Bluetooth  GPS  NumberofSIMs  ThreeG  FourG  Price  \n",
              "589          Windows     1          1    1             1       1      0   3850  \n",
              "290          Android     1          1    0             1       0      0   7990  \n",
              "1096         Android     1          1    1             2       1      1   8666  \n",
              "912          Android     1          1    1             2       0      1   7490  "
            ],
            "text/html": [
              "\n",
              "  <div id=\"df-d04fda1b-bd92-4f69-9c6a-1b3f1007d7c7\">\n",
              "    <div class=\"colab-df-container\">\n",
              "      <div>\n",
              "<style scoped>\n",
              "    .dataframe tbody tr th:only-of-type {\n",
              "        vertical-align: middle;\n",
              "    }\n",
              "\n",
              "    .dataframe tbody tr th {\n",
              "        vertical-align: top;\n",
              "    }\n",
              "\n",
              "    .dataframe thead th {\n",
              "        text-align: right;\n",
              "    }\n",
              "</style>\n",
              "<table border=\"1\" class=\"dataframe\">\n",
              "  <thead>\n",
              "    <tr style=\"text-align: right;\">\n",
              "      <th></th>\n",
              "      <th>Brand</th>\n",
              "      <th>Model</th>\n",
              "      <th>Batterycapacity</th>\n",
              "      <th>Screensize</th>\n",
              "      <th>Touchscreen</th>\n",
              "      <th>Processor</th>\n",
              "      <th>RAM</th>\n",
              "      <th>Internalstorage</th>\n",
              "      <th>RearCamera</th>\n",
              "      <th>FrontCamera</th>\n",
              "      <th>OperatingSystem</th>\n",
              "      <th>WiFi</th>\n",
              "      <th>Bluetooth</th>\n",
              "      <th>GPS</th>\n",
              "      <th>NumberofSIMs</th>\n",
              "      <th>ThreeG</th>\n",
              "      <th>FourG</th>\n",
              "      <th>Price</th>\n",
              "    </tr>\n",
              "  </thead>\n",
              "  <tbody>\n",
              "    <tr>\n",
              "      <th>589</th>\n",
              "      <td>Nokia</td>\n",
              "      <td>Lumia 520</td>\n",
              "      <td>1430</td>\n",
              "      <td>4</td>\n",
              "      <td>1</td>\n",
              "      <td>2</td>\n",
              "      <td>512</td>\n",
              "      <td>8</td>\n",
              "      <td>5</td>\n",
              "      <td>0</td>\n",
              "      <td>Windows</td>\n",
              "      <td>1</td>\n",
              "      <td>1</td>\n",
              "      <td>1</td>\n",
              "      <td>1</td>\n",
              "      <td>1</td>\n",
              "      <td>0</td>\n",
              "      <td>3850</td>\n",
              "    </tr>\n",
              "    <tr>\n",
              "      <th>290</th>\n",
              "      <td>Realme</td>\n",
              "      <td>C1</td>\n",
              "      <td>4230</td>\n",
              "      <td>6</td>\n",
              "      <td>1</td>\n",
              "      <td>8</td>\n",
              "      <td>2000</td>\n",
              "      <td>16</td>\n",
              "      <td>13</td>\n",
              "      <td>5</td>\n",
              "      <td>Android</td>\n",
              "      <td>1</td>\n",
              "      <td>1</td>\n",
              "      <td>0</td>\n",
              "      <td>1</td>\n",
              "      <td>0</td>\n",
              "      <td>0</td>\n",
              "      <td>7990</td>\n",
              "    </tr>\n",
              "    <tr>\n",
              "      <th>1096</th>\n",
              "      <td>Oppo</td>\n",
              "      <td>A37</td>\n",
              "      <td>2630</td>\n",
              "      <td>5</td>\n",
              "      <td>1</td>\n",
              "      <td>4</td>\n",
              "      <td>2000</td>\n",
              "      <td>16</td>\n",
              "      <td>8</td>\n",
              "      <td>5</td>\n",
              "      <td>Android</td>\n",
              "      <td>1</td>\n",
              "      <td>1</td>\n",
              "      <td>1</td>\n",
              "      <td>2</td>\n",
              "      <td>1</td>\n",
              "      <td>1</td>\n",
              "      <td>8666</td>\n",
              "    </tr>\n",
              "    <tr>\n",
              "      <th>912</th>\n",
              "      <td>Intex</td>\n",
              "      <td>Aqua Crystal Plus</td>\n",
              "      <td>2100</td>\n",
              "      <td>5</td>\n",
              "      <td>1</td>\n",
              "      <td>4</td>\n",
              "      <td>2000</td>\n",
              "      <td>16</td>\n",
              "      <td>13</td>\n",
              "      <td>5</td>\n",
              "      <td>Android</td>\n",
              "      <td>1</td>\n",
              "      <td>1</td>\n",
              "      <td>1</td>\n",
              "      <td>2</td>\n",
              "      <td>0</td>\n",
              "      <td>1</td>\n",
              "      <td>7490</td>\n",
              "    </tr>\n",
              "  </tbody>\n",
              "</table>\n",
              "</div>\n",
              "      <button class=\"colab-df-convert\" onclick=\"convertToInteractive('df-d04fda1b-bd92-4f69-9c6a-1b3f1007d7c7')\"\n",
              "              title=\"Convert this dataframe to an interactive table.\"\n",
              "              style=\"display:none;\">\n",
              "        \n",
              "  <svg xmlns=\"http://www.w3.org/2000/svg\" height=\"24px\"viewBox=\"0 0 24 24\"\n",
              "       width=\"24px\">\n",
              "    <path d=\"M0 0h24v24H0V0z\" fill=\"none\"/>\n",
              "    <path d=\"M18.56 5.44l.94 2.06.94-2.06 2.06-.94-2.06-.94-.94-2.06-.94 2.06-2.06.94zm-11 1L8.5 8.5l.94-2.06 2.06-.94-2.06-.94L8.5 2.5l-.94 2.06-2.06.94zm10 10l.94 2.06.94-2.06 2.06-.94-2.06-.94-.94-2.06-.94 2.06-2.06.94z\"/><path d=\"M17.41 7.96l-1.37-1.37c-.4-.4-.92-.59-1.43-.59-.52 0-1.04.2-1.43.59L10.3 9.45l-7.72 7.72c-.78.78-.78 2.05 0 2.83L4 21.41c.39.39.9.59 1.41.59.51 0 1.02-.2 1.41-.59l7.78-7.78 2.81-2.81c.8-.78.8-2.07 0-2.86zM5.41 20L4 18.59l7.72-7.72 1.47 1.35L5.41 20z\"/>\n",
              "  </svg>\n",
              "      </button>\n",
              "      \n",
              "  <style>\n",
              "    .colab-df-container {\n",
              "      display:flex;\n",
              "      flex-wrap:wrap;\n",
              "      gap: 12px;\n",
              "    }\n",
              "\n",
              "    .colab-df-convert {\n",
              "      background-color: #E8F0FE;\n",
              "      border: none;\n",
              "      border-radius: 50%;\n",
              "      cursor: pointer;\n",
              "      display: none;\n",
              "      fill: #1967D2;\n",
              "      height: 32px;\n",
              "      padding: 0 0 0 0;\n",
              "      width: 32px;\n",
              "    }\n",
              "\n",
              "    .colab-df-convert:hover {\n",
              "      background-color: #E2EBFA;\n",
              "      box-shadow: 0px 1px 2px rgba(60, 64, 67, 0.3), 0px 1px 3px 1px rgba(60, 64, 67, 0.15);\n",
              "      fill: #174EA6;\n",
              "    }\n",
              "\n",
              "    [theme=dark] .colab-df-convert {\n",
              "      background-color: #3B4455;\n",
              "      fill: #D2E3FC;\n",
              "    }\n",
              "\n",
              "    [theme=dark] .colab-df-convert:hover {\n",
              "      background-color: #434B5C;\n",
              "      box-shadow: 0px 1px 3px 1px rgba(0, 0, 0, 0.15);\n",
              "      filter: drop-shadow(0px 1px 2px rgba(0, 0, 0, 0.3));\n",
              "      fill: #FFFFFF;\n",
              "    }\n",
              "  </style>\n",
              "\n",
              "      <script>\n",
              "        const buttonEl =\n",
              "          document.querySelector('#df-d04fda1b-bd92-4f69-9c6a-1b3f1007d7c7 button.colab-df-convert');\n",
              "        buttonEl.style.display =\n",
              "          google.colab.kernel.accessAllowed ? 'block' : 'none';\n",
              "\n",
              "        async function convertToInteractive(key) {\n",
              "          const element = document.querySelector('#df-d04fda1b-bd92-4f69-9c6a-1b3f1007d7c7');\n",
              "          const dataTable =\n",
              "            await google.colab.kernel.invokeFunction('convertToInteractive',\n",
              "                                                     [key], {});\n",
              "          if (!dataTable) return;\n",
              "\n",
              "          const docLinkHtml = 'Like what you see? Visit the ' +\n",
              "            '<a target=\"_blank\" href=https://colab.research.google.com/notebooks/data_table.ipynb>data table notebook</a>'\n",
              "            + ' to learn more about interactive tables.';\n",
              "          element.innerHTML = '';\n",
              "          dataTable['output_type'] = 'display_data';\n",
              "          await google.colab.output.renderOutput(dataTable, element);\n",
              "          const docLink = document.createElement('div');\n",
              "          docLink.innerHTML = docLinkHtml;\n",
              "          element.appendChild(docLink);\n",
              "        }\n",
              "      </script>\n",
              "    </div>\n",
              "  </div>\n",
              "  "
            ]
          },
          "metadata": {},
          "execution_count": 32
        }
      ]
    },
    {
      "cell_type": "code",
      "source": [
        "## Internal storage & RAM has higest correlation with target variable [Price]\n",
        "df.corr()['Price'].abs().sort_values(ascending=False)"
      ],
      "metadata": {
        "colab": {
          "base_uri": "https://localhost:8080/"
        },
        "id": "UP_NtUuCLAK2",
        "outputId": "45db5e1f-c866-445c-f5d4-dec0e74c31e9"
      },
      "execution_count": 33,
      "outputs": [
        {
          "output_type": "execute_result",
          "data": {
            "text/plain": [
              "Price              1.000000\n",
              "Internalstorage    0.644084\n",
              "RAM                0.613446\n",
              "RearCamera         0.378562\n",
              "Screensize         0.325336\n",
              "FrontCamera        0.310439\n",
              "Processor          0.302492\n",
              "Batterycapacity    0.297525\n",
              "NumberofSIMs       0.162491\n",
              "FourG              0.149792\n",
              "GPS                0.066807\n",
              "Touchscreen        0.050460\n",
              "WiFi               0.028506\n",
              "Bluetooth          0.027999\n",
              "ThreeG             0.003769\n",
              "Name: Price, dtype: float64"
            ]
          },
          "metadata": {},
          "execution_count": 33
        }
      ]
    },
    {
      "cell_type": "code",
      "source": [
        "## Using ohe-hot encoding to convert categorical column into numeric\n",
        "df= pd.get_dummies(data= df, columns=['Brand'],prefix='Brand')\n",
        "df= pd.get_dummies(data= df, columns=['OperatingSystem'],prefix='OS')"
      ],
      "metadata": {
        "id": "y84SGwPJYhiG"
      },
      "execution_count": 34,
      "outputs": []
    },
    {
      "cell_type": "code",
      "source": [
        "df.columns"
      ],
      "metadata": {
        "colab": {
          "base_uri": "https://localhost:8080/"
        },
        "id": "lz77vUV82b1M",
        "outputId": "3f1941f3-7335-4c76-de99-90af535b8fff"
      },
      "execution_count": 35,
      "outputs": [
        {
          "output_type": "execute_result",
          "data": {
            "text/plain": [
              "Index(['Model', 'Batterycapacity', 'Screensize', 'Touchscreen', 'Processor',\n",
              "       'RAM', 'Internalstorage', 'RearCamera', 'FrontCamera', 'WiFi',\n",
              "       'Bluetooth', 'GPS', 'NumberofSIMs', 'ThreeG', 'FourG', 'Price',\n",
              "       'Brand_10.or', 'Brand_Acer', 'Brand_Alcatel', 'Brand_Apple',\n",
              "       'Brand_Aqua', 'Brand_Asus', 'Brand_Billion', 'Brand_Black Shark',\n",
              "       'Brand_BlackBerry', 'Brand_Blu', 'Brand_Cat', 'Brand_Celkon',\n",
              "       'Brand_Comio', 'Brand_Coolpad', 'Brand_Gionee', 'Brand_Google',\n",
              "       'Brand_HP', 'Brand_HTC', 'Brand_Homtom', 'Brand_Honor', 'Brand_Huawei',\n",
              "       'Brand_InFocus', 'Brand_Infinix', 'Brand_Intex', 'Brand_Itel',\n",
              "       'Brand_Jio', 'Brand_Jivi', 'Brand_Karbonn', 'Brand_Kult', 'Brand_LG',\n",
              "       'Brand_Lava', 'Brand_LeEco', 'Brand_Lenovo', 'Brand_Lephone',\n",
              "       'Brand_Lyf', 'Brand_M-tech', 'Brand_Meizu', 'Brand_Micromax',\n",
              "       'Brand_Microsoft', 'Brand_Mobiistar', 'Brand_Motorola', 'Brand_Nokia',\n",
              "       'Brand_Nubia', 'Brand_Nuu Mobile', 'Brand_OnePlus', 'Brand_Onida',\n",
              "       'Brand_Oppo', 'Brand_Panasonic', 'Brand_Phicomm', 'Brand_Philips',\n",
              "       'Brand_Poco', 'Brand_Razer', 'Brand_Reach', 'Brand_Realme',\n",
              "       'Brand_Samsung', 'Brand_Sansui', 'Brand_Smartron', 'Brand_Sony',\n",
              "       'Brand_Spice', 'Brand_Swipe', 'Brand_TCL', 'Brand_Tambo', 'Brand_Tecno',\n",
              "       'Brand_Videocon', 'Brand_Vivo', 'Brand_Xiaomi', 'Brand_Xolo',\n",
              "       'Brand_Yu', 'Brand_ZTE', 'Brand_Zen', 'Brand_Ziox', 'Brand_Zopo',\n",
              "       'Brand_Zuk', 'Brand_iBall', 'Brand_iVoomi', 'Brand_mPhone',\n",
              "       'OS_Android', 'OS_BlackBerry', 'OS_Cyanogen', 'OS_Sailfish', 'OS_Tizen',\n",
              "       'OS_Windows', 'OS_iOS'],\n",
              "      dtype='object')"
            ]
          },
          "metadata": {},
          "execution_count": 35
        }
      ]
    },
    {
      "cell_type": "code",
      "source": [
        "## Selecting only numeric column to train the model\n",
        "mobile= df.select_dtypes('number')\n",
        "mobile.head(2)"
      ],
      "metadata": {
        "colab": {
          "base_uri": "https://localhost:8080/",
          "height": 205
        },
        "id": "PkUIKF8O2eFq",
        "outputId": "50f385af-00c9-4b74-bbde-c246a643a660"
      },
      "execution_count": 36,
      "outputs": [
        {
          "output_type": "execute_result",
          "data": {
            "text/plain": [
              "   Batterycapacity  Screensize  Touchscreen  Processor    RAM  \\\n",
              "0             4085           6            1          8  12000   \n",
              "1             4000           6            1          8   6000   \n",
              "\n",
              "   Internalstorage  RearCamera  FrontCamera  WiFi  Bluetooth  ...  \\\n",
              "0              256          48           16     1          1  ...   \n",
              "1               64          64           16     1          1  ...   \n",
              "\n",
              "   Brand_iBall  Brand_iVoomi  Brand_mPhone  OS_Android  OS_BlackBerry  \\\n",
              "0            0             0             0           1              0   \n",
              "1            0             0             0           1              0   \n",
              "\n",
              "   OS_Cyanogen  OS_Sailfish  OS_Tizen  OS_Windows  OS_iOS  \n",
              "0            0            0         0           0       0  \n",
              "1            0            0         0           0       0  \n",
              "\n",
              "[2 rows x 98 columns]"
            ],
            "text/html": [
              "\n",
              "  <div id=\"df-83c37d06-5fa4-4190-bcdf-231029aa4bf1\">\n",
              "    <div class=\"colab-df-container\">\n",
              "      <div>\n",
              "<style scoped>\n",
              "    .dataframe tbody tr th:only-of-type {\n",
              "        vertical-align: middle;\n",
              "    }\n",
              "\n",
              "    .dataframe tbody tr th {\n",
              "        vertical-align: top;\n",
              "    }\n",
              "\n",
              "    .dataframe thead th {\n",
              "        text-align: right;\n",
              "    }\n",
              "</style>\n",
              "<table border=\"1\" class=\"dataframe\">\n",
              "  <thead>\n",
              "    <tr style=\"text-align: right;\">\n",
              "      <th></th>\n",
              "      <th>Batterycapacity</th>\n",
              "      <th>Screensize</th>\n",
              "      <th>Touchscreen</th>\n",
              "      <th>Processor</th>\n",
              "      <th>RAM</th>\n",
              "      <th>Internalstorage</th>\n",
              "      <th>RearCamera</th>\n",
              "      <th>FrontCamera</th>\n",
              "      <th>WiFi</th>\n",
              "      <th>Bluetooth</th>\n",
              "      <th>...</th>\n",
              "      <th>Brand_iBall</th>\n",
              "      <th>Brand_iVoomi</th>\n",
              "      <th>Brand_mPhone</th>\n",
              "      <th>OS_Android</th>\n",
              "      <th>OS_BlackBerry</th>\n",
              "      <th>OS_Cyanogen</th>\n",
              "      <th>OS_Sailfish</th>\n",
              "      <th>OS_Tizen</th>\n",
              "      <th>OS_Windows</th>\n",
              "      <th>OS_iOS</th>\n",
              "    </tr>\n",
              "  </thead>\n",
              "  <tbody>\n",
              "    <tr>\n",
              "      <th>0</th>\n",
              "      <td>4085</td>\n",
              "      <td>6</td>\n",
              "      <td>1</td>\n",
              "      <td>8</td>\n",
              "      <td>12000</td>\n",
              "      <td>256</td>\n",
              "      <td>48</td>\n",
              "      <td>16</td>\n",
              "      <td>1</td>\n",
              "      <td>1</td>\n",
              "      <td>...</td>\n",
              "      <td>0</td>\n",
              "      <td>0</td>\n",
              "      <td>0</td>\n",
              "      <td>1</td>\n",
              "      <td>0</td>\n",
              "      <td>0</td>\n",
              "      <td>0</td>\n",
              "      <td>0</td>\n",
              "      <td>0</td>\n",
              "      <td>0</td>\n",
              "    </tr>\n",
              "    <tr>\n",
              "      <th>1</th>\n",
              "      <td>4000</td>\n",
              "      <td>6</td>\n",
              "      <td>1</td>\n",
              "      <td>8</td>\n",
              "      <td>6000</td>\n",
              "      <td>64</td>\n",
              "      <td>64</td>\n",
              "      <td>16</td>\n",
              "      <td>1</td>\n",
              "      <td>1</td>\n",
              "      <td>...</td>\n",
              "      <td>0</td>\n",
              "      <td>0</td>\n",
              "      <td>0</td>\n",
              "      <td>1</td>\n",
              "      <td>0</td>\n",
              "      <td>0</td>\n",
              "      <td>0</td>\n",
              "      <td>0</td>\n",
              "      <td>0</td>\n",
              "      <td>0</td>\n",
              "    </tr>\n",
              "  </tbody>\n",
              "</table>\n",
              "<p>2 rows × 98 columns</p>\n",
              "</div>\n",
              "      <button class=\"colab-df-convert\" onclick=\"convertToInteractive('df-83c37d06-5fa4-4190-bcdf-231029aa4bf1')\"\n",
              "              title=\"Convert this dataframe to an interactive table.\"\n",
              "              style=\"display:none;\">\n",
              "        \n",
              "  <svg xmlns=\"http://www.w3.org/2000/svg\" height=\"24px\"viewBox=\"0 0 24 24\"\n",
              "       width=\"24px\">\n",
              "    <path d=\"M0 0h24v24H0V0z\" fill=\"none\"/>\n",
              "    <path d=\"M18.56 5.44l.94 2.06.94-2.06 2.06-.94-2.06-.94-.94-2.06-.94 2.06-2.06.94zm-11 1L8.5 8.5l.94-2.06 2.06-.94-2.06-.94L8.5 2.5l-.94 2.06-2.06.94zm10 10l.94 2.06.94-2.06 2.06-.94-2.06-.94-.94-2.06-.94 2.06-2.06.94z\"/><path d=\"M17.41 7.96l-1.37-1.37c-.4-.4-.92-.59-1.43-.59-.52 0-1.04.2-1.43.59L10.3 9.45l-7.72 7.72c-.78.78-.78 2.05 0 2.83L4 21.41c.39.39.9.59 1.41.59.51 0 1.02-.2 1.41-.59l7.78-7.78 2.81-2.81c.8-.78.8-2.07 0-2.86zM5.41 20L4 18.59l7.72-7.72 1.47 1.35L5.41 20z\"/>\n",
              "  </svg>\n",
              "      </button>\n",
              "      \n",
              "  <style>\n",
              "    .colab-df-container {\n",
              "      display:flex;\n",
              "      flex-wrap:wrap;\n",
              "      gap: 12px;\n",
              "    }\n",
              "\n",
              "    .colab-df-convert {\n",
              "      background-color: #E8F0FE;\n",
              "      border: none;\n",
              "      border-radius: 50%;\n",
              "      cursor: pointer;\n",
              "      display: none;\n",
              "      fill: #1967D2;\n",
              "      height: 32px;\n",
              "      padding: 0 0 0 0;\n",
              "      width: 32px;\n",
              "    }\n",
              "\n",
              "    .colab-df-convert:hover {\n",
              "      background-color: #E2EBFA;\n",
              "      box-shadow: 0px 1px 2px rgba(60, 64, 67, 0.3), 0px 1px 3px 1px rgba(60, 64, 67, 0.15);\n",
              "      fill: #174EA6;\n",
              "    }\n",
              "\n",
              "    [theme=dark] .colab-df-convert {\n",
              "      background-color: #3B4455;\n",
              "      fill: #D2E3FC;\n",
              "    }\n",
              "\n",
              "    [theme=dark] .colab-df-convert:hover {\n",
              "      background-color: #434B5C;\n",
              "      box-shadow: 0px 1px 3px 1px rgba(0, 0, 0, 0.15);\n",
              "      filter: drop-shadow(0px 1px 2px rgba(0, 0, 0, 0.3));\n",
              "      fill: #FFFFFF;\n",
              "    }\n",
              "  </style>\n",
              "\n",
              "      <script>\n",
              "        const buttonEl =\n",
              "          document.querySelector('#df-83c37d06-5fa4-4190-bcdf-231029aa4bf1 button.colab-df-convert');\n",
              "        buttonEl.style.display =\n",
              "          google.colab.kernel.accessAllowed ? 'block' : 'none';\n",
              "\n",
              "        async function convertToInteractive(key) {\n",
              "          const element = document.querySelector('#df-83c37d06-5fa4-4190-bcdf-231029aa4bf1');\n",
              "          const dataTable =\n",
              "            await google.colab.kernel.invokeFunction('convertToInteractive',\n",
              "                                                     [key], {});\n",
              "          if (!dataTable) return;\n",
              "\n",
              "          const docLinkHtml = 'Like what you see? Visit the ' +\n",
              "            '<a target=\"_blank\" href=https://colab.research.google.com/notebooks/data_table.ipynb>data table notebook</a>'\n",
              "            + ' to learn more about interactive tables.';\n",
              "          element.innerHTML = '';\n",
              "          dataTable['output_type'] = 'display_data';\n",
              "          await google.colab.output.renderOutput(dataTable, element);\n",
              "          const docLink = document.createElement('div');\n",
              "          docLink.innerHTML = docLinkHtml;\n",
              "          element.appendChild(docLink);\n",
              "        }\n",
              "      </script>\n",
              "    </div>\n",
              "  </div>\n",
              "  "
            ]
          },
          "metadata": {},
          "execution_count": 36
        }
      ]
    },
    {
      "cell_type": "code",
      "source": [
        "mobile.columns"
      ],
      "metadata": {
        "colab": {
          "base_uri": "https://localhost:8080/"
        },
        "id": "yysLc5E_215S",
        "outputId": "89f64e84-c4c8-4371-fad9-f6630c5e0736"
      },
      "execution_count": 37,
      "outputs": [
        {
          "output_type": "execute_result",
          "data": {
            "text/plain": [
              "Index(['Batterycapacity', 'Screensize', 'Touchscreen', 'Processor', 'RAM',\n",
              "       'Internalstorage', 'RearCamera', 'FrontCamera', 'WiFi', 'Bluetooth',\n",
              "       'GPS', 'NumberofSIMs', 'ThreeG', 'FourG', 'Price', 'Brand_10.or',\n",
              "       'Brand_Acer', 'Brand_Alcatel', 'Brand_Apple', 'Brand_Aqua',\n",
              "       'Brand_Asus', 'Brand_Billion', 'Brand_Black Shark', 'Brand_BlackBerry',\n",
              "       'Brand_Blu', 'Brand_Cat', 'Brand_Celkon', 'Brand_Comio',\n",
              "       'Brand_Coolpad', 'Brand_Gionee', 'Brand_Google', 'Brand_HP',\n",
              "       'Brand_HTC', 'Brand_Homtom', 'Brand_Honor', 'Brand_Huawei',\n",
              "       'Brand_InFocus', 'Brand_Infinix', 'Brand_Intex', 'Brand_Itel',\n",
              "       'Brand_Jio', 'Brand_Jivi', 'Brand_Karbonn', 'Brand_Kult', 'Brand_LG',\n",
              "       'Brand_Lava', 'Brand_LeEco', 'Brand_Lenovo', 'Brand_Lephone',\n",
              "       'Brand_Lyf', 'Brand_M-tech', 'Brand_Meizu', 'Brand_Micromax',\n",
              "       'Brand_Microsoft', 'Brand_Mobiistar', 'Brand_Motorola', 'Brand_Nokia',\n",
              "       'Brand_Nubia', 'Brand_Nuu Mobile', 'Brand_OnePlus', 'Brand_Onida',\n",
              "       'Brand_Oppo', 'Brand_Panasonic', 'Brand_Phicomm', 'Brand_Philips',\n",
              "       'Brand_Poco', 'Brand_Razer', 'Brand_Reach', 'Brand_Realme',\n",
              "       'Brand_Samsung', 'Brand_Sansui', 'Brand_Smartron', 'Brand_Sony',\n",
              "       'Brand_Spice', 'Brand_Swipe', 'Brand_TCL', 'Brand_Tambo', 'Brand_Tecno',\n",
              "       'Brand_Videocon', 'Brand_Vivo', 'Brand_Xiaomi', 'Brand_Xolo',\n",
              "       'Brand_Yu', 'Brand_ZTE', 'Brand_Zen', 'Brand_Ziox', 'Brand_Zopo',\n",
              "       'Brand_Zuk', 'Brand_iBall', 'Brand_iVoomi', 'Brand_mPhone',\n",
              "       'OS_Android', 'OS_BlackBerry', 'OS_Cyanogen', 'OS_Sailfish', 'OS_Tizen',\n",
              "       'OS_Windows', 'OS_iOS'],\n",
              "      dtype='object')"
            ]
          },
          "metadata": {},
          "execution_count": 37
        }
      ]
    },
    {
      "cell_type": "code",
      "source": [
        "X= mobile.drop('Price', axis=1)\n",
        "y= mobile.Price"
      ],
      "metadata": {
        "id": "Xwmn_Bam6saz"
      },
      "execution_count": 38,
      "outputs": []
    },
    {
      "cell_type": "code",
      "source": [
        "print(X.shape)\n",
        "print(y.shape)"
      ],
      "metadata": {
        "colab": {
          "base_uri": "https://localhost:8080/"
        },
        "id": "hWkrxeOw7m8U",
        "outputId": "bb12ed35-2ee6-47f7-a91c-5d92768be94e"
      },
      "execution_count": 39,
      "outputs": [
        {
          "output_type": "stream",
          "name": "stdout",
          "text": [
            "(1359, 97)\n",
            "(1359,)\n"
          ]
        }
      ]
    },
    {
      "cell_type": "code",
      "source": [
        "from sklearn.model_selection import train_test_split"
      ],
      "metadata": {
        "id": "TEQ8H7X77ut4"
      },
      "execution_count": 40,
      "outputs": []
    },
    {
      "cell_type": "code",
      "source": [
        "X_train,X_test,y_train,y_test = train_test_split(X,y,test_size=0.25,random_state=13)"
      ],
      "metadata": {
        "id": "e6aX9bxF9gG1"
      },
      "execution_count": 41,
      "outputs": []
    },
    {
      "cell_type": "code",
      "source": [
        "## Taken log to reduce the skewness in the data & roundoff the number\n",
        "y_train = np.log(y_train)\n",
        "y_test = np.log(y_test)"
      ],
      "metadata": {
        "id": "Vx-jcdar9-FY"
      },
      "execution_count": 42,
      "outputs": []
    },
    {
      "cell_type": "markdown",
      "source": [
        "# **Linear Regression**"
      ],
      "metadata": {
        "id": "ohMAYS9SRrFe"
      }
    },
    {
      "cell_type": "code",
      "source": [
        "from sklearn.linear_model import LinearRegression, Lasso, Ridge"
      ],
      "metadata": {
        "id": "Qn_1PsEd-XTC"
      },
      "execution_count": 43,
      "outputs": []
    },
    {
      "cell_type": "code",
      "source": [
        "from sklearn.metrics import mean_absolute_error, mean_squared_error, r2_score"
      ],
      "metadata": {
        "id": "TTB9SFi1DRnn"
      },
      "execution_count": 44,
      "outputs": []
    },
    {
      "cell_type": "code",
      "source": [
        "lm = LinearRegression()"
      ],
      "metadata": {
        "id": "GSt5zn4I-p6R"
      },
      "execution_count": 45,
      "outputs": []
    },
    {
      "cell_type": "code",
      "source": [
        "lm.fit(X_train,y_train)"
      ],
      "metadata": {
        "colab": {
          "base_uri": "https://localhost:8080/"
        },
        "id": "wUkodukhCSdB",
        "outputId": "ef08f9db-2751-4fb5-9983-4a33d2093d9a"
      },
      "execution_count": 46,
      "outputs": [
        {
          "output_type": "execute_result",
          "data": {
            "text/plain": [
              "LinearRegression()"
            ]
          },
          "metadata": {},
          "execution_count": 46
        }
      ]
    },
    {
      "cell_type": "code",
      "source": [
        "## In regression, score mean R suqare value\n",
        "lm.score(X_train,y_train)"
      ],
      "metadata": {
        "colab": {
          "base_uri": "https://localhost:8080/"
        },
        "id": "Ax_O4-wiCYYS",
        "outputId": "3ef051d1-01ae-43f6-9d2f-54397705d813"
      },
      "execution_count": 47,
      "outputs": [
        {
          "output_type": "execute_result",
          "data": {
            "text/plain": [
              "0.7532144027180391"
            ]
          },
          "metadata": {},
          "execution_count": 47
        }
      ]
    },
    {
      "cell_type": "code",
      "source": [
        "lm.score(X_test,y_test)"
      ],
      "metadata": {
        "colab": {
          "base_uri": "https://localhost:8080/"
        },
        "id": "ppdl-mtcDv4K",
        "outputId": "fc3b038a-8bb5-4475-92b4-29e6caa48710"
      },
      "execution_count": 48,
      "outputs": [
        {
          "output_type": "execute_result",
          "data": {
            "text/plain": [
              "0.6774023566789664"
            ]
          },
          "metadata": {},
          "execution_count": 48
        }
      ]
    },
    {
      "cell_type": "code",
      "source": [
        "y_pred_train = lm.predict(X_train)\n",
        "sns.scatterplot(y_train, y_pred_train);"
      ],
      "metadata": {
        "colab": {
          "base_uri": "https://localhost:8080/",
          "height": 344
        },
        "id": "0vfI2GHpEBsb",
        "outputId": "af2af250-584e-4715-d570-0de59f865933"
      },
      "execution_count": 49,
      "outputs": [
        {
          "output_type": "stream",
          "name": "stderr",
          "text": [
            "/usr/local/lib/python3.7/dist-packages/seaborn/_decorators.py:43: FutureWarning: Pass the following variables as keyword args: x, y. From version 0.12, the only valid positional argument will be `data`, and passing other arguments without an explicit keyword will result in an error or misinterpretation.\n",
            "  FutureWarning\n"
          ]
        },
        {
          "output_type": "display_data",
          "data": {
            "text/plain": [
              "<Figure size 432x288 with 1 Axes>"
            ],
            "image/png": "[encoded data removed]"
          },
          "metadata": {}
        }
      ]
    },
    {
      "cell_type": "code",
      "source": [
        "y_pred_test_lm = lm.predict(X_test)\n",
        "sns.scatterplot(y_test, y_pred_test_lm);"
      ],
      "metadata": {
        "colab": {
          "base_uri": "https://localhost:8080/",
          "height": 341
        },
        "id": "lDesKgwPEbwc",
        "outputId": "2db8e2e1-cad5-4f0b-c891-4abc97c6ec3e"
      },
      "execution_count": 50,
      "outputs": [
        {
          "output_type": "stream",
          "name": "stderr",
          "text": [
            "/usr/local/lib/python3.7/dist-packages/seaborn/_decorators.py:43: FutureWarning: Pass the following variables as keyword args: x, y. From version 0.12, the only valid positional argument will be `data`, and passing other arguments without an explicit keyword will result in an error or misinterpretation.\n",
            "  FutureWarning\n"
          ]
        },
        {
          "output_type": "display_data",
          "data": {
            "text/plain": [
              "<Figure size 432x288 with 1 Axes>"
            ],
            "image/png": "[encoded data removed]"
          },
          "metadata": {}
        }
      ]
    },
    {
      "cell_type": "code",
      "source": [
        "## MAE\n",
        "mean_absolute_error(y_test, y_pred_test_lm)"
      ],
      "metadata": {
        "colab": {
          "base_uri": "https://localhost:8080/"
        },
        "id": "c9b0Frk8EcEF",
        "outputId": "f9bab1f2-0603-4365-ae3a-3beb9669c7aa"
      },
      "execution_count": 51,
      "outputs": [
        {
          "output_type": "execute_result",
          "data": {
            "text/plain": [
              "0.3418615693277487"
            ]
          },
          "metadata": {},
          "execution_count": 51
        }
      ]
    },
    {
      "cell_type": "code",
      "source": [
        "## we have taken log of price column, so using exponancial to convert\n",
        "np.exp(0.34186156932774675)"
      ],
      "metadata": {
        "colab": {
          "base_uri": "https://localhost:8080/"
        },
        "id": "e1zzO15PGUSD",
        "outputId": "48c86758-443e-49c7-fb7c-7308c2db524a"
      },
      "execution_count": 52,
      "outputs": [
        {
          "output_type": "execute_result",
          "data": {
            "text/plain": [
              "1.4075654337976151"
            ]
          },
          "metadata": {},
          "execution_count": 52
        }
      ]
    },
    {
      "cell_type": "code",
      "source": [
        "## MSE\n",
        "mean_squared_error(y_test, y_pred_test_lm)"
      ],
      "metadata": {
        "colab": {
          "base_uri": "https://localhost:8080/"
        },
        "id": "9ijBFiML0pYI",
        "outputId": "5a3197e5-f70c-4c77-a75d-b6f7103c53f7"
      },
      "execution_count": 53,
      "outputs": [
        {
          "output_type": "execute_result",
          "data": {
            "text/plain": [
              "0.20012010973287594"
            ]
          },
          "metadata": {},
          "execution_count": 53
        }
      ]
    },
    {
      "cell_type": "code",
      "source": [
        "## RMSE\n",
        "np.sqrt(mean_squared_error(y_test, y_pred_test_lm))"
      ],
      "metadata": {
        "colab": {
          "base_uri": "https://localhost:8080/"
        },
        "id": "7m5RB1RZGpjB",
        "outputId": "6fe31b99-332b-439f-f15b-3b8fd00e38f1"
      },
      "execution_count": 54,
      "outputs": [
        {
          "output_type": "execute_result",
          "data": {
            "text/plain": [
              "0.44734786210831046"
            ]
          },
          "metadata": {},
          "execution_count": 54
        }
      ]
    },
    {
      "cell_type": "code",
      "source": [
        "## R2 score\n",
        "r2_score(y_test, y_pred_test_lm)"
      ],
      "metadata": {
        "colab": {
          "base_uri": "https://localhost:8080/"
        },
        "id": "pKq9GkIi2e2W",
        "outputId": "33ddb0cf-fa38-45b6-cf17-90ea66062604"
      },
      "execution_count": 55,
      "outputs": [
        {
          "output_type": "execute_result",
          "data": {
            "text/plain": [
              "0.6774023566789664"
            ]
          },
          "metadata": {},
          "execution_count": 55
        }
      ]
    },
    {
      "cell_type": "code",
      "source": [
        "np.mean(y_test)"
      ],
      "metadata": {
        "colab": {
          "base_uri": "https://localhost:8080/"
        },
        "id": "V2Ne5v2zHgSb",
        "outputId": "aad8d4cb-f0cd-4465-ad7e-d66a375e2d8a"
      },
      "execution_count": 56,
      "outputs": [
        {
          "output_type": "execute_result",
          "data": {
            "text/plain": [
              "9.018285131127636"
            ]
          },
          "metadata": {},
          "execution_count": 56
        }
      ]
    },
    {
      "cell_type": "markdown",
      "source": [
        "**Lasso**"
      ],
      "metadata": {
        "id": "f3i6zHOG3BNo"
      }
    },
    {
      "cell_type": "code",
      "source": [
        "lasso = Lasso(alpha=1)"
      ],
      "metadata": {
        "id": "JzW1XkT_IAKQ"
      },
      "execution_count": 57,
      "outputs": []
    },
    {
      "cell_type": "code",
      "source": [
        "lasso.fit(X_train, y_train)"
      ],
      "metadata": {
        "colab": {
          "base_uri": "https://localhost:8080/"
        },
        "id": "Z47iSltrIn7v",
        "outputId": "7db2782e-69d6-470c-89bf-51ce8eef816d"
      },
      "execution_count": 58,
      "outputs": [
        {
          "output_type": "execute_result",
          "data": {
            "text/plain": [
              "Lasso(alpha=1)"
            ]
          },
          "metadata": {},
          "execution_count": 58
        }
      ]
    },
    {
      "cell_type": "code",
      "source": [
        "lasso.score(X_train,y_train)"
      ],
      "metadata": {
        "colab": {
          "base_uri": "https://localhost:8080/"
        },
        "id": "RjEjTR7kJaZm",
        "outputId": "c4f6ff53-6090-4562-e68b-0ea4e2b0cf7a"
      },
      "execution_count": 59,
      "outputs": [
        {
          "output_type": "execute_result",
          "data": {
            "text/plain": [
              "0.49518491894179373"
            ]
          },
          "metadata": {},
          "execution_count": 59
        }
      ]
    },
    {
      "cell_type": "code",
      "source": [
        "lasso.score(X_test,y_test)"
      ],
      "metadata": {
        "colab": {
          "base_uri": "https://localhost:8080/"
        },
        "id": "PD4HnbSCJcu_",
        "outputId": "62000d1b-39fa-4d7a-b57a-6db8279a7612"
      },
      "execution_count": 60,
      "outputs": [
        {
          "output_type": "execute_result",
          "data": {
            "text/plain": [
              "0.4761079081531535"
            ]
          },
          "metadata": {},
          "execution_count": 60
        }
      ]
    },
    {
      "cell_type": "markdown",
      "source": [
        "**Ridge**"
      ],
      "metadata": {
        "id": "mMuBwNea3Fjt"
      }
    },
    {
      "cell_type": "code",
      "source": [
        "ridge = Ridge()"
      ],
      "metadata": {
        "id": "8wNJSdQlJdBJ"
      },
      "execution_count": 61,
      "outputs": []
    },
    {
      "cell_type": "code",
      "source": [
        "ridge.fit(X_train,y_train)"
      ],
      "metadata": {
        "colab": {
          "base_uri": "https://localhost:8080/"
        },
        "id": "KX06ik3RJdH3",
        "outputId": "ac392ca1-d614-4842-ddd7-d72bb0f87ead"
      },
      "execution_count": 62,
      "outputs": [
        {
          "output_type": "execute_result",
          "data": {
            "text/plain": [
              "Ridge()"
            ]
          },
          "metadata": {},
          "execution_count": 62
        }
      ]
    },
    {
      "cell_type": "code",
      "source": [
        "ridge.score(X_train, y_train)"
      ],
      "metadata": {
        "colab": {
          "base_uri": "https://localhost:8080/"
        },
        "id": "kfUDbhupJdMq",
        "outputId": "cf8fad10-b5b3-4a7d-ceac-9f87dd3ca4bc"
      },
      "execution_count": 63,
      "outputs": [
        {
          "output_type": "execute_result",
          "data": {
            "text/plain": [
              "0.7484062261450635"
            ]
          },
          "metadata": {},
          "execution_count": 63
        }
      ]
    },
    {
      "cell_type": "code",
      "source": [
        "ridge.score(X_test, y_test)"
      ],
      "metadata": {
        "colab": {
          "base_uri": "https://localhost:8080/"
        },
        "id": "NSYCXHs5JdRu",
        "outputId": "99beeb30-9686-45af-aae1-ea41f0c70f6e"
      },
      "execution_count": 64,
      "outputs": [
        {
          "output_type": "execute_result",
          "data": {
            "text/plain": [
              "0.684930557426473"
            ]
          },
          "metadata": {},
          "execution_count": 64
        }
      ]
    },
    {
      "cell_type": "code",
      "source": [
        "mean_absolute_error(y_test,lm.predict(X_test))"
      ],
      "metadata": {
        "colab": {
          "base_uri": "https://localhost:8080/"
        },
        "id": "pdupVgHqKrq5",
        "outputId": "637227af-b01f-4d31-9e10-8493a3062dd8"
      },
      "execution_count": 65,
      "outputs": [
        {
          "output_type": "execute_result",
          "data": {
            "text/plain": [
              "0.3418615693277487"
            ]
          },
          "metadata": {},
          "execution_count": 65
        }
      ]
    },
    {
      "cell_type": "code",
      "source": [
        "mean_absolute_error(y_test,lasso.predict(X_test))"
      ],
      "metadata": {
        "colab": {
          "base_uri": "https://localhost:8080/"
        },
        "id": "PJI6QjdjLSsW",
        "outputId": "d1282c22-273c-453b-873e-9fb2a41d3b49"
      },
      "execution_count": 66,
      "outputs": [
        {
          "output_type": "execute_result",
          "data": {
            "text/plain": [
              "0.4161906097267428"
            ]
          },
          "metadata": {},
          "execution_count": 66
        }
      ]
    },
    {
      "cell_type": "code",
      "source": [
        "mean_absolute_error(y_test,ridge.predict(X_test))"
      ],
      "metadata": {
        "colab": {
          "base_uri": "https://localhost:8080/"
        },
        "id": "q18MrkRfLS61",
        "outputId": "0c9c8241-0cc8-44b6-ad8c-8a4d12ccb400"
      },
      "execution_count": 67,
      "outputs": [
        {
          "output_type": "execute_result",
          "data": {
            "text/plain": [
              "0.3386278799738206"
            ]
          },
          "metadata": {},
          "execution_count": 67
        }
      ]
    },
    {
      "cell_type": "markdown",
      "source": [
        "Ridge is has a minimum error"
      ],
      "metadata": {
        "id": "cqw0p_xQMCbB"
      }
    },
    {
      "cell_type": "markdown",
      "source": [
        "# **Auto ML**"
      ],
      "metadata": {
        "id": "Gqk96lXx-BrT"
      }
    },
    {
      "cell_type": "code",
      "source": [
        "pip install lazypredict"
      ],
      "metadata": {
        "id": "FLZmzsZCLyBl",
        "colab": {
          "base_uri": "https://localhost:8080/"
        },
        "outputId": "a8c160f6-acc1-412e-a134-fa3112fc6a98"
      },
      "execution_count": 68,
      "outputs": [
        {
          "output_type": "stream",
          "name": "stdout",
          "text": [
            "Looking in indexes: https://pypi.org/simple, https://us-python.pkg.dev/colab-wheels/public/simple/\n",
            "Collecting lazypredict\n",
            "  Downloading lazypredict-0.2.12-py2.py3-none-any.whl (12 kB)\n",
            "Requirement already satisfied: click in /usr/local/lib/python3.7/dist-packages (from lazypredict) (7.1.2)\n",
            "Requirement already satisfied: xgboost in /usr/local/lib/python3.7/dist-packages (from lazypredict) (0.90)\n",
            "Requirement already satisfied: scikit-learn in /usr/local/lib/python3.7/dist-packages (from lazypredict) (1.0.2)\n",
            "Requirement already satisfied: tqdm in /usr/local/lib/python3.7/dist-packages (from lazypredict) (4.64.1)\n",
            "Requirement already satisfied: lightgbm in /usr/local/lib/python3.7/dist-packages (from lazypredict) (2.2.3)\n",
            "Requirement already satisfied: joblib in /usr/local/lib/python3.7/dist-packages (from lazypredict) (1.2.0)\n",
            "Requirement already satisfied: pandas in /usr/local/lib/python3.7/dist-packages (from lazypredict) (1.3.5)\n",
            "Requirement already satisfied: scipy in /usr/local/lib/python3.7/dist-packages (from lightgbm->lazypredict) (1.7.3)\n",
            "Requirement already satisfied: numpy in /usr/local/lib/python3.7/dist-packages (from lightgbm->lazypredict) (1.21.6)\n",
            "Requirement already satisfied: python-dateutil>=2.7.3 in /usr/local/lib/python3.7/dist-packages (from pandas->lazypredict) (2.8.2)\n",
            "Requirement already satisfied: pytz>=2017.3 in /usr/local/lib/python3.7/dist-packages (from pandas->lazypredict) (2022.4)\n",
            "Requirement already satisfied: six>=1.5 in /usr/local/lib/python3.7/dist-packages (from python-dateutil>=2.7.3->pandas->lazypredict) (1.15.0)\n",
            "Requirement already satisfied: threadpoolctl>=2.0.0 in /usr/local/lib/python3.7/dist-packages (from scikit-learn->lazypredict) (3.1.0)\n",
            "Installing collected packages: lazypredict\n",
            "Successfully installed lazypredict-0.2.12\n"
          ]
        }
      ]
    },
    {
      "cell_type": "code",
      "source": [
        "from lazypredict.Supervised import LazyRegressor"
      ],
      "metadata": {
        "id": "AwAH1VRyNyik"
      },
      "execution_count": 69,
      "outputs": []
    },
    {
      "cell_type": "code",
      "source": [
        "auto= LazyRegressor(random_state=13, ignore_warnings=True)"
      ],
      "metadata": {
        "id": "DDLM_a4zN-zN"
      },
      "execution_count": 70,
      "outputs": []
    },
    {
      "cell_type": "code",
      "source": [
        "models= auto.fit(X_train,X_test,y_train,y_test)"
      ],
      "metadata": {
        "colab": {
          "base_uri": "https://localhost:8080/"
        },
        "id": "LiW9VO6cOIpG",
        "outputId": "7fa5bb33-5f1b-4bfa-851e-00c395bc1953"
      },
      "execution_count": 71,
      "outputs": [
        {
          "output_type": "stream",
          "name": "stderr",
          "text": [
            " 90%|█████████ | 38/42 [27:13<05:14, 78.71s/it] "
          ]
        },
        {
          "output_type": "stream",
          "name": "stdout",
          "text": [
            "[13:27:23] WARNING: /workspace/src/objective/regression_obj.cu:152: reg:linear is now deprecated in favor of reg:squarederror.\n"
          ]
        },
        {
          "output_type": "stream",
          "name": "stderr",
          "text": [
            "100%|██████████| 42/42 [27:14<00:00, 38.92s/it]\n"
          ]
        }
      ]
    },
    {
      "cell_type": "markdown",
      "source": [],
      "metadata": {
        "id": "5U7VQwf2y9mG"
      }
    },
    {
      "cell_type": "code",
      "source": [
        "models[0]"
      ],
      "metadata": {
        "colab": {
          "base_uri": "https://localhost:8080/",
          "height": 1000
        },
        "id": "t7sMzKMyOUai",
        "outputId": "9be14ad0-310a-42c0-e86a-5255d10dfe7e"
      },
      "execution_count": 72,
      "outputs": [
        {
          "output_type": "execute_result",
          "data": {
            "text/plain": [
              "                                                              Adjusted R-Squared  \\\n",
              "Model                                                                              \n",
              "GradientBoostingRegressor                                                   0.63   \n",
              "XGBRegressor                                                                0.62   \n",
              "ExtraTreesRegressor                                                         0.60   \n",
              "RandomForestRegressor                                                       0.60   \n",
              "LGBMRegressor                                                               0.57   \n",
              "HistGradientBoostingRegressor                                               0.57   \n",
              "BaggingRegressor                                                            0.57   \n",
              "LassoLarsCV                                                                 0.56   \n",
              "BayesianRidge                                                               0.56   \n",
              "LassoCV                                                                     0.56   \n",
              "ElasticNetCV                                                                0.56   \n",
              "LarsCV                                                                      0.55   \n",
              "LassoLarsIC                                                                 0.55   \n",
              "PoissonRegressor                                                            0.55   \n",
              "RidgeCV                                                                     0.55   \n",
              "Ridge                                                                       0.55   \n",
              "Lars                                                                        0.55   \n",
              "SGDRegressor                                                                0.55   \n",
              "HuberRegressor                                                              0.54   \n",
              "NuSVR                                                                       0.54   \n",
              "SVR                                                                         0.53   \n",
              "TweedieRegressor                                                            0.51   \n",
              "OrthogonalMatchingPursuit                                                   0.51   \n",
              "OrthogonalMatchingPursuitCV                                                 0.51   \n",
              "GammaRegressor                                                              0.50   \n",
              "LinearSVR                                                                   0.50   \n",
              "KNeighborsRegressor                                                         0.47   \n",
              "DecisionTreeRegressor                                                       0.47   \n",
              "ExtraTreeRegressor                                                          0.39   \n",
              "AdaBoostRegressor                                                           0.34   \n",
              "PassiveAggressiveRegressor                                                  0.20   \n",
              "MLPRegressor                                                               -0.00   \n",
              "ElasticNet                                                                 -0.35   \n",
              "DummyRegressor                                                             -0.40   \n",
              "LassoLars                                                                  -0.40   \n",
              "Lasso                                                                      -0.40   \n",
              "KernelRidge                                                              -180.58   \n",
              "GaussianProcessRegressor                                               -19382.41   \n",
              "LinearRegression                                      -9244001882925658275840.00   \n",
              "TransformedTargetRegressor                            -9244001882925658275840.00   \n",
              "RANSACRegressor                                  -200808217776971449418907648.00   \n",
              "QuantileRegressor             -1731933018978392430302313106347675691465881256...   \n",
              "\n",
              "                                                                       R-Squared  \\\n",
              "Model                                                                              \n",
              "GradientBoostingRegressor                                                   0.74   \n",
              "XGBRegressor                                                                0.73   \n",
              "ExtraTreesRegressor                                                         0.72   \n",
              "RandomForestRegressor                                                       0.72   \n",
              "LGBMRegressor                                                               0.70   \n",
              "HistGradientBoostingRegressor                                               0.69   \n",
              "BaggingRegressor                                                            0.69   \n",
              "LassoLarsCV                                                                 0.69   \n",
              "BayesianRidge                                                               0.68   \n",
              "LassoCV                                                                     0.68   \n",
              "ElasticNetCV                                                                0.68   \n",
              "LarsCV                                                                      0.68   \n",
              "LassoLarsIC                                                                 0.68   \n",
              "PoissonRegressor                                                            0.68   \n",
              "RidgeCV                                                                     0.68   \n",
              "Ridge                                                                       0.68   \n",
              "Lars                                                                        0.68   \n",
              "SGDRegressor                                                                0.68   \n",
              "HuberRegressor                                                              0.67   \n",
              "NuSVR                                                                       0.67   \n",
              "SVR                                                                         0.66   \n",
              "TweedieRegressor                                                            0.65   \n",
              "OrthogonalMatchingPursuit                                                   0.65   \n",
              "OrthogonalMatchingPursuitCV                                                 0.65   \n",
              "GammaRegressor                                                              0.65   \n",
              "LinearSVR                                                                   0.65   \n",
              "KNeighborsRegressor                                                         0.62   \n",
              "DecisionTreeRegressor                                                       0.62   \n",
              "ExtraTreeRegressor                                                          0.56   \n",
              "AdaBoostRegressor                                                           0.53   \n",
              "PassiveAggressiveRegressor                                                  0.43   \n",
              "MLPRegressor                                                                0.29   \n",
              "ElasticNet                                                                  0.03   \n",
              "DummyRegressor                                                             -0.00   \n",
              "LassoLars                                                                  -0.00   \n",
              "Lasso                                                                      -0.00   \n",
              "KernelRidge                                                              -128.62   \n",
              "GaussianProcessRegressor                                               -13836.13   \n",
              "LinearRegression                                      -6598962996070823493632.00   \n",
              "TransformedTargetRegressor                            -6598962996070823493632.00   \n",
              "RANSACRegressor                                  -143349819180020917302460416.00   \n",
              "QuantileRegressor             -1236365163990474807952791267203495291028401160...   \n",
              "\n",
              "                                                                RMSE  \\\n",
              "Model                                                                  \n",
              "GradientBoostingRegressor                                       0.40   \n",
              "XGBRegressor                                                    0.41   \n",
              "ExtraTreesRegressor                                             0.42   \n",
              "RandomForestRegressor                                           0.42   \n",
              "LGBMRegressor                                                   0.43   \n",
              "HistGradientBoostingRegressor                                   0.44   \n",
              "BaggingRegressor                                                0.44   \n",
              "LassoLarsCV                                                     0.44   \n",
              "BayesianRidge                                                   0.44   \n",
              "LassoCV                                                         0.44   \n",
              "ElasticNetCV                                                    0.44   \n",
              "LarsCV                                                          0.44   \n",
              "LassoLarsIC                                                     0.44   \n",
              "PoissonRegressor                                                0.44   \n",
              "RidgeCV                                                         0.45   \n",
              "Ridge                                                           0.45   \n",
              "Lars                                                            0.45   \n",
              "SGDRegressor                                                    0.45   \n",
              "HuberRegressor                                                  0.45   \n",
              "NuSVR                                                           0.45   \n",
              "SVR                                                             0.46   \n",
              "TweedieRegressor                                                0.47   \n",
              "OrthogonalMatchingPursuit                                       0.47   \n",
              "OrthogonalMatchingPursuitCV                                     0.47   \n",
              "GammaRegressor                                                  0.47   \n",
              "LinearSVR                                                       0.47   \n",
              "KNeighborsRegressor                                             0.48   \n",
              "DecisionTreeRegressor                                           0.48   \n",
              "ExtraTreeRegressor                                              0.52   \n",
              "AdaBoostRegressor                                               0.54   \n",
              "PassiveAggressiveRegressor                                      0.59   \n",
              "MLPRegressor                                                    0.67   \n",
              "ElasticNet                                                      0.77   \n",
              "DummyRegressor                                                  0.79   \n",
              "LassoLars                                                       0.79   \n",
              "Lasso                                                           0.79   \n",
              "KernelRidge                                                     8.97   \n",
              "GaussianProcessRegressor                                       92.65   \n",
              "LinearRegression                                      63981234805.98   \n",
              "TransformedTargetRegressor                            63981234805.98   \n",
              "RANSACRegressor                                     9430035891624.66   \n",
              "QuantileRegressor             27694157061396879354889362647023616.00   \n",
              "\n",
              "                               Time Taken  \n",
              "Model                                      \n",
              "GradientBoostingRegressor            0.20  \n",
              "XGBRegressor                         0.65  \n",
              "ExtraTreesRegressor                  0.70  \n",
              "RandomForestRegressor                0.61  \n",
              "LGBMRegressor                        0.09  \n",
              "HistGradientBoostingRegressor        0.81  \n",
              "BaggingRegressor                     0.09  \n",
              "LassoLarsCV                          0.16  \n",
              "BayesianRidge                        0.03  \n",
              "LassoCV                              0.16  \n",
              "ElasticNetCV                         0.17  \n",
              "LarsCV                               0.16  \n",
              "LassoLarsIC                          0.05  \n",
              "PoissonRegressor                     0.03  \n",
              "RidgeCV                              0.03  \n",
              "Ridge                                0.02  \n",
              "Lars                                 0.06  \n",
              "SGDRegressor                         0.02  \n",
              "HuberRegressor                       0.06  \n",
              "NuSVR                                0.18  \n",
              "SVR                                  0.19  \n",
              "TweedieRegressor                     0.02  \n",
              "OrthogonalMatchingPursuit            0.02  \n",
              "OrthogonalMatchingPursuitCV          0.04  \n",
              "GammaRegressor                       0.02  \n",
              "LinearSVR                            0.23  \n",
              "KNeighborsRegressor                  0.03  \n",
              "DecisionTreeRegressor                0.03  \n",
              "ExtraTreeRegressor                   0.03  \n",
              "AdaBoostRegressor                    0.18  \n",
              "PassiveAggressiveRegressor           0.03  \n",
              "MLPRegressor                         1.59  \n",
              "ElasticNet                           0.02  \n",
              "DummyRegressor                       0.02  \n",
              "LassoLars                            0.03  \n",
              "Lasso                                0.02  \n",
              "KernelRidge                          0.06  \n",
              "GaussianProcessRegressor             0.37  \n",
              "LinearRegression                     0.03  \n",
              "TransformedTargetRegressor           0.03  \n",
              "RANSACRegressor                      0.33  \n",
              "QuantileRegressor                 1626.83  "
            ],
            "text/html": [
              "\n",
              "  <div id=\"df-2b670f41-224e-4b80-9cbf-491c41971682\">\n",
              "    <div class=\"colab-df-container\">\n",
              "      <div>\n",
              "<style scoped>\n",
              "    .dataframe tbody tr th:only-of-type {\n",
              "        vertical-align: middle;\n",
              "    }\n",
              "\n",
              "    .dataframe tbody tr th {\n",
              "        vertical-align: top;\n",
              "    }\n",
              "\n",
              "    .dataframe thead th {\n",
              "        text-align: right;\n",
              "    }\n",
              "</style>\n",
              "<table border=\"1\" class=\"dataframe\">\n",
              "  <thead>\n",
              "    <tr style=\"text-align: right;\">\n",
              "      <th></th>\n",
              "      <th>Adjusted R-Squared</th>\n",
              "      <th>R-Squared</th>\n",
              "      <th>RMSE</th>\n",
              "      <th>Time Taken</th>\n",
              "    </tr>\n",
              "    <tr>\n",
              "      <th>Model</th>\n",
              "      <th></th>\n",
              "      <th></th>\n",
              "      <th></th>\n",
              "      <th></th>\n",
              "    </tr>\n",
              "  </thead>\n",
              "  <tbody>\n",
              "    <tr>\n",
              "      <th>GradientBoostingRegressor</th>\n",
              "      <td>0.63</td>\n",
              "      <td>0.74</td>\n",
              "      <td>0.40</td>\n",
              "      <td>0.20</td>\n",
              "    </tr>\n",
              "    <tr>\n",
              "      <th>XGBRegressor</th>\n",
              "      <td>0.62</td>\n",
              "      <td>0.73</td>\n",
              "      <td>0.41</td>\n",
              "      <td>0.65</td>\n",
              "    </tr>\n",
              "    <tr>\n",
              "      <th>ExtraTreesRegressor</th>\n",
              "      <td>0.60</td>\n",
              "      <td>0.72</td>\n",
              "      <td>0.42</td>\n",
              "      <td>0.70</td>\n",
              "    </tr>\n",
              "    <tr>\n",
              "      <th>RandomForestRegressor</th>\n",
              "      <td>0.60</td>\n",
              "      <td>0.72</td>\n",
              "      <td>0.42</td>\n",
              "      <td>0.61</td>\n",
              "    </tr>\n",
              "    <tr>\n",
              "      <th>LGBMRegressor</th>\n",
              "      <td>0.57</td>\n",
              "      <td>0.70</td>\n",
              "      <td>0.43</td>\n",
              "      <td>0.09</td>\n",
              "    </tr>\n",
              "    <tr>\n",
              "      <th>HistGradientBoostingRegressor</th>\n",
              "      <td>0.57</td>\n",
              "      <td>0.69</td>\n",
              "      <td>0.44</td>\n",
              "      <td>0.81</td>\n",
              "    </tr>\n",
              "    <tr>\n",
              "      <th>BaggingRegressor</th>\n",
              "      <td>0.57</td>\n",
              "      <td>0.69</td>\n",
              "      <td>0.44</td>\n",
              "      <td>0.09</td>\n",
              "    </tr>\n",
              "    <tr>\n",
              "      <th>LassoLarsCV</th>\n",
              "      <td>0.56</td>\n",
              "      <td>0.69</td>\n",
              "      <td>0.44</td>\n",
              "      <td>0.16</td>\n",
              "    </tr>\n",
              "    <tr>\n",
              "      <th>BayesianRidge</th>\n",
              "      <td>0.56</td>\n",
              "      <td>0.68</td>\n",
              "      <td>0.44</td>\n",
              "      <td>0.03</td>\n",
              "    </tr>\n",
              "    <tr>\n",
              "      <th>LassoCV</th>\n",
              "      <td>0.56</td>\n",
              "      <td>0.68</td>\n",
              "      <td>0.44</td>\n",
              "      <td>0.16</td>\n",
              "    </tr>\n",
              "    <tr>\n",
              "      <th>ElasticNetCV</th>\n",
              "      <td>0.56</td>\n",
              "      <td>0.68</td>\n",
              "      <td>0.44</td>\n",
              "      <td>0.17</td>\n",
              "    </tr>\n",
              "    <tr>\n",
              "      <th>LarsCV</th>\n",
              "      <td>0.55</td>\n",
              "      <td>0.68</td>\n",
              "      <td>0.44</td>\n",
              "      <td>0.16</td>\n",
              "    </tr>\n",
              "    <tr>\n",
              "      <th>LassoLarsIC</th>\n",
              "      <td>0.55</td>\n",
              "      <td>0.68</td>\n",
              "      <td>0.44</td>\n",
              "      <td>0.05</td>\n",
              "    </tr>\n",
              "    <tr>\n",
              "      <th>PoissonRegressor</th>\n",
              "      <td>0.55</td>\n",
              "      <td>0.68</td>\n",
              "      <td>0.44</td>\n",
              "      <td>0.03</td>\n",
              "    </tr>\n",
              "    <tr>\n",
              "      <th>RidgeCV</th>\n",
              "      <td>0.55</td>\n",
              "      <td>0.68</td>\n",
              "      <td>0.45</td>\n",
              "      <td>0.03</td>\n",
              "    </tr>\n",
              "    <tr>\n",
              "      <th>Ridge</th>\n",
              "      <td>0.55</td>\n",
              "      <td>0.68</td>\n",
              "      <td>0.45</td>\n",
              "      <td>0.02</td>\n",
              "    </tr>\n",
              "    <tr>\n",
              "      <th>Lars</th>\n",
              "      <td>0.55</td>\n",
              "      <td>0.68</td>\n",
              "      <td>0.45</td>\n",
              "      <td>0.06</td>\n",
              "    </tr>\n",
              "    <tr>\n",
              "      <th>SGDRegressor</th>\n",
              "      <td>0.55</td>\n",
              "      <td>0.68</td>\n",
              "      <td>0.45</td>\n",
              "      <td>0.02</td>\n",
              "    </tr>\n",
              "    <tr>\n",
              "      <th>HuberRegressor</th>\n",
              "      <td>0.54</td>\n",
              "      <td>0.67</td>\n",
              "      <td>0.45</td>\n",
              "      <td>0.06</td>\n",
              "    </tr>\n",
              "    <tr>\n",
              "      <th>NuSVR</th>\n",
              "      <td>0.54</td>\n",
              "      <td>0.67</td>\n",
              "      <td>0.45</td>\n",
              "      <td>0.18</td>\n",
              "    </tr>\n",
              "    <tr>\n",
              "      <th>SVR</th>\n",
              "      <td>0.53</td>\n",
              "      <td>0.66</td>\n",
              "      <td>0.46</td>\n",
              "      <td>0.19</td>\n",
              "    </tr>\n",
              "    <tr>\n",
              "      <th>TweedieRegressor</th>\n",
              "      <td>0.51</td>\n",
              "      <td>0.65</td>\n",
              "      <td>0.47</td>\n",
              "      <td>0.02</td>\n",
              "    </tr>\n",
              "    <tr>\n",
              "      <th>OrthogonalMatchingPursuit</th>\n",
              "      <td>0.51</td>\n",
              "      <td>0.65</td>\n",
              "      <td>0.47</td>\n",
              "      <td>0.02</td>\n",
              "    </tr>\n",
              "    <tr>\n",
              "      <th>OrthogonalMatchingPursuitCV</th>\n",
              "      <td>0.51</td>\n",
              "      <td>0.65</td>\n",
              "      <td>0.47</td>\n",
              "      <td>0.04</td>\n",
              "    </tr>\n",
              "    <tr>\n",
              "      <th>GammaRegressor</th>\n",
              "      <td>0.50</td>\n",
              "      <td>0.65</td>\n",
              "      <td>0.47</td>\n",
              "      <td>0.02</td>\n",
              "    </tr>\n",
              "    <tr>\n",
              "      <th>LinearSVR</th>\n",
              "      <td>0.50</td>\n",
              "      <td>0.65</td>\n",
              "      <td>0.47</td>\n",
              "      <td>0.23</td>\n",
              "    </tr>\n",
              "    <tr>\n",
              "      <th>KNeighborsRegressor</th>\n",
              "      <td>0.47</td>\n",
              "      <td>0.62</td>\n",
              "      <td>0.48</td>\n",
              "      <td>0.03</td>\n",
              "    </tr>\n",
              "    <tr>\n",
              "      <th>DecisionTreeRegressor</th>\n",
              "      <td>0.47</td>\n",
              "      <td>0.62</td>\n",
              "      <td>0.48</td>\n",
              "      <td>0.03</td>\n",
              "    </tr>\n",
              "    <tr>\n",
              "      <th>ExtraTreeRegressor</th>\n",
              "      <td>0.39</td>\n",
              "      <td>0.56</td>\n",
              "      <td>0.52</td>\n",
              "      <td>0.03</td>\n",
              "    </tr>\n",
              "    <tr>\n",
              "      <th>AdaBoostRegressor</th>\n",
              "      <td>0.34</td>\n",
              "      <td>0.53</td>\n",
              "      <td>0.54</td>\n",
              "      <td>0.18</td>\n",
              "    </tr>\n",
              "    <tr>\n",
              "      <th>PassiveAggressiveRegressor</th>\n",
              "      <td>0.20</td>\n",
              "      <td>0.43</td>\n",
              "      <td>0.59</td>\n",
              "      <td>0.03</td>\n",
              "    </tr>\n",
              "    <tr>\n",
              "      <th>MLPRegressor</th>\n",
              "      <td>-0.00</td>\n",
              "      <td>0.29</td>\n",
              "      <td>0.67</td>\n",
              "      <td>1.59</td>\n",
              "    </tr>\n",
              "    <tr>\n",
              "      <th>ElasticNet</th>\n",
              "      <td>-0.35</td>\n",
              "      <td>0.03</td>\n",
              "      <td>0.77</td>\n",
              "      <td>0.02</td>\n",
              "    </tr>\n",
              "    <tr>\n",
              "      <th>DummyRegressor</th>\n",
              "      <td>-0.40</td>\n",
              "      <td>-0.00</td>\n",
              "      <td>0.79</td>\n",
              "      <td>0.02</td>\n",
              "    </tr>\n",
              "    <tr>\n",
              "      <th>LassoLars</th>\n",
              "      <td>-0.40</td>\n",
              "      <td>-0.00</td>\n",
              "      <td>0.79</td>\n",
              "      <td>0.03</td>\n",
              "    </tr>\n",
              "    <tr>\n",
              "      <th>Lasso</th>\n",
              "      <td>-0.40</td>\n",
              "      <td>-0.00</td>\n",
              "      <td>0.79</td>\n",
              "      <td>0.02</td>\n",
              "    </tr>\n",
              "    <tr>\n",
              "      <th>KernelRidge</th>\n",
              "      <td>-180.58</td>\n",
              "      <td>-128.62</td>\n",
              "      <td>8.97</td>\n",
              "      <td>0.06</td>\n",
              "    </tr>\n",
              "    <tr>\n",
              "      <th>GaussianProcessRegressor</th>\n",
              "      <td>-19382.41</td>\n",
              "      <td>-13836.13</td>\n",
              "      <td>92.65</td>\n",
              "      <td>0.37</td>\n",
              "    </tr>\n",
              "    <tr>\n",
              "      <th>LinearRegression</th>\n",
              "      <td>-9244001882925658275840.00</td>\n",
              "      <td>-6598962996070823493632.00</td>\n",
              "      <td>63981234805.98</td>\n",
              "      <td>0.03</td>\n",
              "    </tr>\n",
              "    <tr>\n",
              "      <th>TransformedTargetRegressor</th>\n",
              "      <td>-9244001882925658275840.00</td>\n",
              "      <td>-6598962996070823493632.00</td>\n",
              "      <td>63981234805.98</td>\n",
              "      <td>0.03</td>\n",
              "    </tr>\n",
              "    <tr>\n",
              "      <th>RANSACRegressor</th>\n",
              "      <td>-200808217776971449418907648.00</td>\n",
              "      <td>-143349819180020917302460416.00</td>\n",
              "      <td>9430035891624.66</td>\n",
              "      <td>0.33</td>\n",
              "    </tr>\n",
              "    <tr>\n",
              "      <th>QuantileRegressor</th>\n",
              "      <td>-1731933018978392430302313106347675691465881256...</td>\n",
              "      <td>-1236365163990474807952791267203495291028401160...</td>\n",
              "      <td>27694157061396879354889362647023616.00</td>\n",
              "      <td>1626.83</td>\n",
              "    </tr>\n",
              "  </tbody>\n",
              "</table>\n",
              "</div>\n",
              "      <button class=\"colab-df-convert\" onclick=\"convertToInteractive('df-2b670f41-224e-4b80-9cbf-491c41971682')\"\n",
              "              title=\"Convert this dataframe to an interactive table.\"\n",
              "              style=\"display:none;\">\n",
              "        \n",
              "  <svg xmlns=\"http://www.w3.org/2000/svg\" height=\"24px\"viewBox=\"0 0 24 24\"\n",
              "       width=\"24px\">\n",
              "    <path d=\"M0 0h24v24H0V0z\" fill=\"none\"/>\n",
              "    <path d=\"M18.56 5.44l.94 2.06.94-2.06 2.06-.94-2.06-.94-.94-2.06-.94 2.06-2.06.94zm-11 1L8.5 8.5l.94-2.06 2.06-.94-2.06-.94L8.5 2.5l-.94 2.06-2.06.94zm10 10l.94 2.06.94-2.06 2.06-.94-2.06-.94-.94-2.06-.94 2.06-2.06.94z\"/><path d=\"M17.41 7.96l-1.37-1.37c-.4-.4-.92-.59-1.43-.59-.52 0-1.04.2-1.43.59L10.3 9.45l-7.72 7.72c-.78.78-.78 2.05 0 2.83L4 21.41c.39.39.9.59 1.41.59.51 0 1.02-.2 1.41-.59l7.78-7.78 2.81-2.81c.8-.78.8-2.07 0-2.86zM5.41 20L4 18.59l7.72-7.72 1.47 1.35L5.41 20z\"/>\n",
              "  </svg>\n",
              "      </button>\n",
              "      \n",
              "  <style>\n",
              "    .colab-df-container {\n",
              "      display:flex;\n",
              "      flex-wrap:wrap;\n",
              "      gap: 12px;\n",
              "    }\n",
              "\n",
              "    .colab-df-convert {\n",
              "      background-color: #E8F0FE;\n",
              "      border: none;\n",
              "      border-radius: 50%;\n",
              "      cursor: pointer;\n",
              "      display: none;\n",
              "      fill: #1967D2;\n",
              "      height: 32px;\n",
              "      padding: 0 0 0 0;\n",
              "      width: 32px;\n",
              "    }\n",
              "\n",
              "    .colab-df-convert:hover {\n",
              "      background-color: #E2EBFA;\n",
              "      box-shadow: 0px 1px 2px rgba(60, 64, 67, 0.3), 0px 1px 3px 1px rgba(60, 64, 67, 0.15);\n",
              "      fill: #174EA6;\n",
              "    }\n",
              "\n",
              "    [theme=dark] .colab-df-convert {\n",
              "      background-color: #3B4455;\n",
              "      fill: #D2E3FC;\n",
              "    }\n",
              "\n",
              "    [theme=dark] .colab-df-convert:hover {\n",
              "      background-color: #434B5C;\n",
              "      box-shadow: 0px 1px 3px 1px rgba(0, 0, 0, 0.15);\n",
              "      filter: drop-shadow(0px 1px 2px rgba(0, 0, 0, 0.3));\n",
              "      fill: #FFFFFF;\n",
              "    }\n",
              "  </style>\n",
              "\n",
              "      <script>\n",
              "        const buttonEl =\n",
              "          document.querySelector('#df-2b670f41-224e-4b80-9cbf-491c41971682 button.colab-df-convert');\n",
              "        buttonEl.style.display =\n",
              "          google.colab.kernel.accessAllowed ? 'block' : 'none';\n",
              "\n",
              "        async function convertToInteractive(key) {\n",
              "          const element = document.querySelector('#df-2b670f41-224e-4b80-9cbf-491c41971682');\n",
              "          const dataTable =\n",
              "            await google.colab.kernel.invokeFunction('convertToInteractive',\n",
              "                                                     [key], {});\n",
              "          if (!dataTable) return;\n",
              "\n",
              "          const docLinkHtml = 'Like what you see? Visit the ' +\n",
              "            '<a target=\"_blank\" href=https://colab.research.google.com/notebooks/data_table.ipynb>data table notebook</a>'\n",
              "            + ' to learn more about interactive tables.';\n",
              "          element.innerHTML = '';\n",
              "          dataTable['output_type'] = 'display_data';\n",
              "          await google.colab.output.renderOutput(dataTable, element);\n",
              "          const docLink = document.createElement('div');\n",
              "          docLink.innerHTML = docLinkHtml;\n",
              "          element.appendChild(docLink);\n",
              "        }\n",
              "      </script>\n",
              "    </div>\n",
              "  </div>\n",
              "  "
            ]
          },
          "metadata": {},
          "execution_count": 72
        }
      ]
    },
    {
      "cell_type": "markdown",
      "source": [
        "### **XG Boost Regressor**"
      ],
      "metadata": {
        "id": "--SIspLvVo_I"
      }
    },
    {
      "cell_type": "code",
      "source": [
        "from xgboost import XGBRegressor"
      ],
      "metadata": {
        "id": "lFiuJuLYVXbC"
      },
      "execution_count": 73,
      "outputs": []
    },
    {
      "cell_type": "code",
      "source": [
        "xgb = XGBRegressor(max_depth= 5, random_state=13)"
      ],
      "metadata": {
        "id": "k_mp6trKSyvZ"
      },
      "execution_count": 74,
      "outputs": []
    },
    {
      "cell_type": "code",
      "source": [
        "xgb.fit(X_train,y_train)"
      ],
      "metadata": {
        "colab": {
          "base_uri": "https://localhost:8080/"
        },
        "id": "w0AEC5QXS-CM",
        "outputId": "79a184df-ac19-42cb-c9cd-d7f09e9b591c"
      },
      "execution_count": 75,
      "outputs": [
        {
          "output_type": "stream",
          "name": "stdout",
          "text": [
            "[13:27:23] WARNING: /workspace/src/objective/regression_obj.cu:152: reg:linear is now deprecated in favor of reg:squarederror.\n"
          ]
        },
        {
          "output_type": "execute_result",
          "data": {
            "text/plain": [
              "XGBRegressor(max_depth=5, random_state=13)"
            ]
          },
          "metadata": {},
          "execution_count": 75
        }
      ]
    },
    {
      "cell_type": "code",
      "source": [
        "xgb.score(X_train,y_train)"
      ],
      "metadata": {
        "colab": {
          "base_uri": "https://localhost:8080/"
        },
        "id": "CAC3MbQLTblI",
        "outputId": "fa7edc03-0d04-4980-948d-a926dcd36121"
      },
      "execution_count": 76,
      "outputs": [
        {
          "output_type": "execute_result",
          "data": {
            "text/plain": [
              "0.8494697952398317"
            ]
          },
          "metadata": {},
          "execution_count": 76
        }
      ]
    },
    {
      "cell_type": "code",
      "source": [
        "xgb.score(X_test,y_test)"
      ],
      "metadata": {
        "colab": {
          "base_uri": "https://localhost:8080/"
        },
        "id": "JWKVSArxTxa5",
        "outputId": "081bc43d-73b9-47d1-8afa-49aa473bc7f3"
      },
      "execution_count": 77,
      "outputs": [
        {
          "output_type": "execute_result",
          "data": {
            "text/plain": [
              "0.7412711689716822"
            ]
          },
          "metadata": {},
          "execution_count": 77
        }
      ]
    },
    {
      "cell_type": "code",
      "source": [
        "y_pred_test_xgb = xgb.predict(X_test)\n",
        "sns.scatterplot(y_test, y_pred_test_xgb);"
      ],
      "metadata": {
        "colab": {
          "base_uri": "https://localhost:8080/",
          "height": 285
        },
        "id": "y-mkxCBQ3L2E",
        "outputId": "c8c6ae54-88a8-4991-f5bd-b1cf98e0c32b"
      },
      "execution_count": 78,
      "outputs": [
        {
          "output_type": "display_data",
          "data": {
            "text/plain": [
              "<Figure size 432x288 with 1 Axes>"
            ],
            "image/png": "[encoded data removed]"
          },
          "metadata": {}
        }
      ]
    },
    {
      "cell_type": "code",
      "source": [
        "## MAE\n",
        "mean_absolute_error(y_test, y_pred_test_xgb)"
      ],
      "metadata": {
        "colab": {
          "base_uri": "https://localhost:8080/"
        },
        "id": "2EfX80Sg3MT_",
        "outputId": "7a2bb65c-e32c-4ec1-9c6c-0627f682a26b"
      },
      "execution_count": 79,
      "outputs": [
        {
          "output_type": "execute_result",
          "data": {
            "text/plain": [
              "0.3053292712165711"
            ]
          },
          "metadata": {},
          "execution_count": 79
        }
      ]
    },
    {
      "cell_type": "code",
      "source": [
        "## Since we have take the log of target column\n",
        "np.exp(0.3190862430059167)"
      ],
      "metadata": {
        "colab": {
          "base_uri": "https://localhost:8080/"
        },
        "id": "WeqaRin73ltT",
        "outputId": "f0a7ce87-88e3-4810-b5bf-b2fe1aa7b958"
      },
      "execution_count": 80,
      "outputs": [
        {
          "output_type": "execute_result",
          "data": {
            "text/plain": [
              "1.3758699789521605"
            ]
          },
          "metadata": {},
          "execution_count": 80
        }
      ]
    },
    {
      "cell_type": "code",
      "source": [
        "## MSE\n",
        "mean_squared_error(y_test, y_pred_test_xgb)"
      ],
      "metadata": {
        "colab": {
          "base_uri": "https://localhost:8080/"
        },
        "id": "_gRSombJ3l3N",
        "outputId": "60c0e5ed-4666-4ec9-e3e0-7bc999de002d"
      },
      "execution_count": 81,
      "outputs": [
        {
          "output_type": "execute_result",
          "data": {
            "text/plain": [
              "0.1604997529536193"
            ]
          },
          "metadata": {},
          "execution_count": 81
        }
      ]
    },
    {
      "cell_type": "code",
      "source": [
        "## RMSE\n",
        "np.sqrt(mean_squared_error(y_test, y_pred_test_xgb))"
      ],
      "metadata": {
        "colab": {
          "base_uri": "https://localhost:8080/"
        },
        "id": "qJLVTGsy3l-1",
        "outputId": "b489bb5c-9c69-4b6d-cfbc-7487f28e2774"
      },
      "execution_count": 82,
      "outputs": [
        {
          "output_type": "execute_result",
          "data": {
            "text/plain": [
              "0.4006242041534926"
            ]
          },
          "metadata": {},
          "execution_count": 82
        }
      ]
    },
    {
      "cell_type": "code",
      "source": [
        "## R2 score or coefficient of Determination\n",
        "r2_score(y_test, y_pred_test_xgb)"
      ],
      "metadata": {
        "colab": {
          "base_uri": "https://localhost:8080/"
        },
        "id": "IXG7db7w3mGH",
        "outputId": "e3f36596-8bcf-4720-df5f-7d65c4a35c67"
      },
      "execution_count": 83,
      "outputs": [
        {
          "output_type": "execute_result",
          "data": {
            "text/plain": [
              "0.7412711689716822"
            ]
          },
          "metadata": {},
          "execution_count": 83
        }
      ]
    },
    {
      "cell_type": "markdown",
      "source": [
        "### **Extra Trees Regressor**"
      ],
      "metadata": {
        "id": "UEGz-LfJVhVM"
      }
    },
    {
      "cell_type": "code",
      "source": [
        "from sklearn.ensemble import ExtraTreesRegressor"
      ],
      "metadata": {
        "id": "_FS4qINCT22l"
      },
      "execution_count": 84,
      "outputs": []
    },
    {
      "cell_type": "code",
      "source": [
        "etr= ExtraTreesRegressor(max_depth=9,n_estimators=500, random_state=13)"
      ],
      "metadata": {
        "id": "1bx2c7zpUNiB"
      },
      "execution_count": 85,
      "outputs": []
    },
    {
      "cell_type": "code",
      "source": [
        "etr.fit(X_train,y_train)"
      ],
      "metadata": {
        "colab": {
          "base_uri": "https://localhost:8080/"
        },
        "id": "mlMUAt1JUTBx",
        "outputId": "d1ae3a3f-9e49-4eae-a9bf-8e11d760752a"
      },
      "execution_count": 86,
      "outputs": [
        {
          "output_type": "execute_result",
          "data": {
            "text/plain": [
              "ExtraTreesRegressor(max_depth=9, n_estimators=500, random_state=13)"
            ]
          },
          "metadata": {},
          "execution_count": 86
        }
      ]
    },
    {
      "cell_type": "code",
      "source": [
        "etr.score(X_train,y_train)"
      ],
      "metadata": {
        "colab": {
          "base_uri": "https://localhost:8080/"
        },
        "id": "6YCf5Yz4U_Gk",
        "outputId": "fdac11c2-6299-4337-d23c-6d811c83cbe6"
      },
      "execution_count": 87,
      "outputs": [
        {
          "output_type": "execute_result",
          "data": {
            "text/plain": [
              "0.8449479809374487"
            ]
          },
          "metadata": {},
          "execution_count": 87
        }
      ]
    },
    {
      "cell_type": "code",
      "source": [
        "etr.score(X_test,y_test)"
      ],
      "metadata": {
        "colab": {
          "base_uri": "https://localhost:8080/"
        },
        "id": "s1TXorwMVFfP",
        "outputId": "b259c17f-9559-4109-d928-7e218f9f87a8"
      },
      "execution_count": 88,
      "outputs": [
        {
          "output_type": "execute_result",
          "data": {
            "text/plain": [
              "0.7204422735295886"
            ]
          },
          "metadata": {},
          "execution_count": 88
        }
      ]
    },
    {
      "cell_type": "code",
      "source": [
        "y_pred_test_etr = etr.predict(X_test)\n",
        "sns.scatterplot(y_test, y_pred_test_etr);"
      ],
      "metadata": {
        "id": "jqQotTscVKFh",
        "colab": {
          "base_uri": "https://localhost:8080/",
          "height": 285
        },
        "outputId": "482e1359-982b-4d14-9472-4f689b0c658d"
      },
      "execution_count": 89,
      "outputs": [
        {
          "output_type": "display_data",
          "data": {
            "text/plain": [
              "<Figure size 432x288 with 1 Axes>"
            ],
            "image/png": "[encoded data removed]"
          },
          "metadata": {}
        }
      ]
    },
    {
      "cell_type": "code",
      "source": [
        "## MAE\n",
        "mean_absolute_error(y_test, y_pred_test_etr)"
      ],
      "metadata": {
        "id": "QSMpKBwr4gHW",
        "colab": {
          "base_uri": "https://localhost:8080/"
        },
        "outputId": "452ed657-2b81-40ca-8ccd-ad6efda4b285"
      },
      "execution_count": 90,
      "outputs": [
        {
          "output_type": "execute_result",
          "data": {
            "text/plain": [
              "0.32001116246885203"
            ]
          },
          "metadata": {},
          "execution_count": 90
        }
      ]
    },
    {
      "cell_type": "code",
      "source": [
        "np.exp(0.3368904223543692)"
      ],
      "metadata": {
        "colab": {
          "base_uri": "https://localhost:8080/"
        },
        "id": "MBDXyo8Yz0TP",
        "outputId": "26786512-e0cc-48b5-cc4f-c51ad1337e65"
      },
      "execution_count": 91,
      "outputs": [
        {
          "output_type": "execute_result",
          "data": {
            "text/plain": [
              "1.400585582459"
            ]
          },
          "metadata": {},
          "execution_count": 91
        }
      ]
    },
    {
      "cell_type": "code",
      "source": [
        "## MSE\n",
        "mean_squared_error(y_test, y_pred_test_etr)"
      ],
      "metadata": {
        "colab": {
          "base_uri": "https://localhost:8080/"
        },
        "id": "tMt2RZsM9kL3",
        "outputId": "b5ff74e7-40c9-4730-b8fa-e1a2b3e7e426"
      },
      "execution_count": 92,
      "outputs": [
        {
          "output_type": "execute_result",
          "data": {
            "text/plain": [
              "0.17342074269977906"
            ]
          },
          "metadata": {},
          "execution_count": 92
        }
      ]
    },
    {
      "cell_type": "code",
      "source": [
        "## RMSE\n",
        "np.sqrt(mean_squared_error(y_test, y_pred_test_etr))"
      ],
      "metadata": {
        "colab": {
          "base_uri": "https://localhost:8080/"
        },
        "id": "Sy3bIwag9qL9",
        "outputId": "a78f0f5c-140a-48c5-aebb-0718b58dec2e"
      },
      "execution_count": 93,
      "outputs": [
        {
          "output_type": "execute_result",
          "data": {
            "text/plain": [
              "0.4164381619157628"
            ]
          },
          "metadata": {},
          "execution_count": 93
        }
      ]
    },
    {
      "cell_type": "code",
      "source": [
        "r2_score(y_test, y_pred_test_etr)"
      ],
      "metadata": {
        "colab": {
          "base_uri": "https://localhost:8080/"
        },
        "id": "MDqsfwqw919t",
        "outputId": "f1dd4726-ee6f-4293-c1c9-9281e941f615"
      },
      "execution_count": 94,
      "outputs": [
        {
          "output_type": "execute_result",
          "data": {
            "text/plain": [
              "0.7204422735295886"
            ]
          },
          "metadata": {},
          "execution_count": 94
        }
      ]
    },
    {
      "cell_type": "markdown",
      "source": [
        "**Conclusion: XD Boost Regressor is giving the best r2 score.**"
      ],
      "metadata": {
        "id": "lOmtKqq5lGIL"
      }
    }
  ]
}